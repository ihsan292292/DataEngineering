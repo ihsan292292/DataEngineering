{
 "cells": [
  {
   "cell_type": "code",
   "execution_count": 6,
   "id": "910fd9bb",
   "metadata": {},
   "outputs": [
    {
     "ename": "AttributeError",
     "evalue": "'NoneType' object has no attribute 'sc'",
     "output_type": "error",
     "traceback": [
      "\u001b[0;31m---------------------------------------------------------------------------\u001b[0m",
      "\u001b[0;31mAttributeError\u001b[0m                            Traceback (most recent call last)",
      "\u001b[0;32m~/.local/lib/python3.6/site-packages/IPython/core/formatters.py\u001b[0m in \u001b[0;36m__call__\u001b[0;34m(self, obj)\u001b[0m\n\u001b[1;32m    343\u001b[0m             \u001b[0mmethod\u001b[0m \u001b[0;34m=\u001b[0m \u001b[0mget_real_method\u001b[0m\u001b[0;34m(\u001b[0m\u001b[0mobj\u001b[0m\u001b[0;34m,\u001b[0m \u001b[0mself\u001b[0m\u001b[0;34m.\u001b[0m\u001b[0mprint_method\u001b[0m\u001b[0;34m)\u001b[0m\u001b[0;34m\u001b[0m\u001b[0;34m\u001b[0m\u001b[0m\n\u001b[1;32m    344\u001b[0m             \u001b[0;32mif\u001b[0m \u001b[0mmethod\u001b[0m \u001b[0;32mis\u001b[0m \u001b[0;32mnot\u001b[0m \u001b[0;32mNone\u001b[0m\u001b[0;34m:\u001b[0m\u001b[0;34m\u001b[0m\u001b[0;34m\u001b[0m\u001b[0m\n\u001b[0;32m--> 345\u001b[0;31m                 \u001b[0;32mreturn\u001b[0m \u001b[0mmethod\u001b[0m\u001b[0;34m(\u001b[0m\u001b[0;34m)\u001b[0m\u001b[0;34m\u001b[0m\u001b[0;34m\u001b[0m\u001b[0m\n\u001b[0m\u001b[1;32m    346\u001b[0m             \u001b[0;32mreturn\u001b[0m \u001b[0;32mNone\u001b[0m\u001b[0;34m\u001b[0m\u001b[0;34m\u001b[0m\u001b[0m\n\u001b[1;32m    347\u001b[0m         \u001b[0;32melse\u001b[0m\u001b[0;34m:\u001b[0m\u001b[0;34m\u001b[0m\u001b[0;34m\u001b[0m\u001b[0m\n",
      "\u001b[0;32m/usr/local/spark/python/pyspark/context.py\u001b[0m in \u001b[0;36m_repr_html_\u001b[0;34m(self)\u001b[0m\n\u001b[1;32m    297\u001b[0m         \u001b[0;34m<\u001b[0m\u001b[0;34m/\u001b[0m\u001b[0mdiv\u001b[0m\u001b[0;34m>\u001b[0m\u001b[0;34m\u001b[0m\u001b[0;34m\u001b[0m\u001b[0m\n\u001b[1;32m    298\u001b[0m         \"\"\".format(\n\u001b[0;32m--> 299\u001b[0;31m             \u001b[0msc\u001b[0m\u001b[0;34m=\u001b[0m\u001b[0mself\u001b[0m\u001b[0;34m\u001b[0m\u001b[0;34m\u001b[0m\u001b[0m\n\u001b[0m\u001b[1;32m    300\u001b[0m         )\n\u001b[1;32m    301\u001b[0m \u001b[0;34m\u001b[0m\u001b[0m\n",
      "\u001b[0;32m/usr/local/spark/python/pyspark/context.py\u001b[0m in \u001b[0;36muiWebUrl\u001b[0;34m(self)\u001b[0m\n\u001b[1;32m    409\u001b[0m     \u001b[0;32mdef\u001b[0m \u001b[0muiWebUrl\u001b[0m\u001b[0;34m(\u001b[0m\u001b[0mself\u001b[0m\u001b[0;34m)\u001b[0m\u001b[0;34m:\u001b[0m\u001b[0;34m\u001b[0m\u001b[0;34m\u001b[0m\u001b[0m\n\u001b[1;32m    410\u001b[0m         \u001b[0;34m\"\"\"Return the URL of the SparkUI instance started by this SparkContext\"\"\"\u001b[0m\u001b[0;34m\u001b[0m\u001b[0;34m\u001b[0m\u001b[0m\n\u001b[0;32m--> 411\u001b[0;31m         \u001b[0;32mreturn\u001b[0m \u001b[0mself\u001b[0m\u001b[0;34m.\u001b[0m\u001b[0m_jsc\u001b[0m\u001b[0;34m.\u001b[0m\u001b[0msc\u001b[0m\u001b[0;34m(\u001b[0m\u001b[0;34m)\u001b[0m\u001b[0;34m.\u001b[0m\u001b[0muiWebUrl\u001b[0m\u001b[0;34m(\u001b[0m\u001b[0;34m)\u001b[0m\u001b[0;34m.\u001b[0m\u001b[0mget\u001b[0m\u001b[0;34m(\u001b[0m\u001b[0;34m)\u001b[0m\u001b[0;34m\u001b[0m\u001b[0;34m\u001b[0m\u001b[0m\n\u001b[0m\u001b[1;32m    412\u001b[0m \u001b[0;34m\u001b[0m\u001b[0m\n\u001b[1;32m    413\u001b[0m     \u001b[0;34m@\u001b[0m\u001b[0mproperty\u001b[0m\u001b[0;34m\u001b[0m\u001b[0;34m\u001b[0m\u001b[0m\n",
      "\u001b[0;31mAttributeError\u001b[0m: 'NoneType' object has no attribute 'sc'"
     ]
    },
    {
     "data": {
      "text/plain": [
       "<SparkContext master=local[*] appName=PySparkShell>"
      ]
     },
     "execution_count": 6,
     "metadata": {},
     "output_type": "execute_result"
    }
   ],
   "source": [
    "sc"
   ]
  },
  {
   "cell_type": "code",
   "execution_count": 3,
   "id": "c1d2053d",
   "metadata": {},
   "outputs": [],
   "source": [
    "spark.stop()"
   ]
  },
  {
   "cell_type": "markdown",
   "id": "91cdf5cd",
   "metadata": {},
   "source": [
    "### Reading data from a JDBC source"
   ]
  },
  {
   "cell_type": "code",
   "execution_count": 7,
   "id": "9f62b109",
   "metadata": {},
   "outputs": [],
   "source": [
    "from pyspark.sql import SparkSession\n",
    "mysql_connector_path = \"/home/hadoop/Downloads/mysql-connector-java-8.0.13.jar\""
   ]
  },
  {
   "cell_type": "code",
   "execution_count": 8,
   "id": "57eb7852",
   "metadata": {},
   "outputs": [],
   "source": [
    "spark = SparkSession.builder.appName(\"ETL Pipeline\").getOrCreate()"
   ]
  },
  {
   "cell_type": "code",
   "execution_count": 5,
   "id": "d0869e29",
   "metadata": {},
   "outputs": [],
   "source": [
    "# restart \n",
    "#pyspark --jars \"path of jar package\""
   ]
  },
  {
   "cell_type": "code",
   "execution_count": 9,
   "id": "4053da7e",
   "metadata": {},
   "outputs": [],
   "source": [
    "hremployeeDF = spark.read.format(\"jdbc\")\\\n",
    "    .option(\"url\", \"jdbc:mysql://localhost:3306/hremployeeDB\")\\\n",
    "    .option(\"dbtable\", \"hremployee\").option(\"user\", \"root\").option(\"password\", \"hadoop@123\")\\\n",
    "    .option(\"driver\", \"com.mysql.cj.jdbc.Driver\").load()"
   ]
  },
  {
   "cell_type": "code",
   "execution_count": 10,
   "id": "c4ff4203",
   "metadata": {},
   "outputs": [],
   "source": [
    "hremployeeDF.createOrReplaceTempView(\"hrtable\")"
   ]
  },
  {
   "cell_type": "code",
   "execution_count": 11,
   "id": "0d391fc0",
   "metadata": {},
   "outputs": [
    {
     "name": "stdout",
     "output_type": "stream",
     "text": [
      "== Physical Plan ==\n",
      "*(1) Scan JDBCRelation(hremployee) [numPartitions=1] [EmployeeID#0,Department#1,JobRole#2,Attrition#3,Gender#4,Age#5,MaritalStatus#6,Education#7,EducationField#8,BusinessTravel#9,JobInvolvement#10,JobLevel#11,JobSatisfaction#12,Hourlyrate#13,Income#14,Salaryhike#15,OverTime#16,Workex#17,YearsSinceLastPromotion#18,EmpSatisfaction#19,TrainingTimesLastYear#20,WorkLifeBalance#21,Performance_Rating#22] PushedFilters: [], ReadSchema: struct<EmployeeID:string,Department:string,JobRole:string,Attrition:string,Gender:string,Age:int,...\n"
     ]
    }
   ],
   "source": [
    "hremployeeDF.explain()"
   ]
  },
  {
   "cell_type": "markdown",
   "id": "5775ebfe",
   "metadata": {},
   "source": [
    "#### 1.Display The shape of hrtable"
   ]
  },
  {
   "cell_type": "code",
   "execution_count": 10,
   "id": "5cdab0ee",
   "metadata": {},
   "outputs": [
    {
     "data": {
      "text/plain": [
       "23"
      ]
     },
     "execution_count": 10,
     "metadata": {},
     "output_type": "execute_result"
    }
   ],
   "source": [
    "len(hr_df.columns) #colums"
   ]
  },
  {
   "cell_type": "code",
   "execution_count": 11,
   "id": "6d4afd96",
   "metadata": {},
   "outputs": [
    {
     "data": {
      "text/plain": [
       "1469"
      ]
     },
     "execution_count": 11,
     "metadata": {},
     "output_type": "execute_result"
    }
   ],
   "source": [
    "hr_df.count() #rows"
   ]
  },
  {
   "cell_type": "code",
   "execution_count": 12,
   "id": "e7b00ea9",
   "metadata": {
    "scrolled": true
   },
   "outputs": [
    {
     "name": "stdout",
     "output_type": "stream",
     "text": [
      "+--------+\n",
      "|count(1)|\n",
      "+--------+\n",
      "|    1469|\n",
      "+--------+\n",
      "\n"
     ]
    }
   ],
   "source": [
    "# rows\n",
    "spark.sql(\"select count(*) as rows from hrtable\").show()"
   ]
  },
  {
   "cell_type": "code",
   "execution_count": 14,
   "id": "155c11f8",
   "metadata": {},
   "outputs": [
    {
     "data": {
      "text/plain": [
       "23"
      ]
     },
     "execution_count": 14,
     "metadata": {},
     "output_type": "execute_result"
    }
   ],
   "source": [
    "# columns\n",
    "columns = spark.sql(\"\"\"describe hrtable\"\"\").collect()\n",
    "len(columns)"
   ]
  },
  {
   "cell_type": "markdown",
   "id": "f6b1eb35",
   "metadata": {},
   "source": [
    "hr_df.printSchema()"
   ]
  },
  {
   "cell_type": "markdown",
   "id": "f31379e8",
   "metadata": {},
   "source": [
    "#### write query to show first 3 employee from each job roles to join the company"
   ]
  },
  {
   "cell_type": "code",
   "execution_count": 30,
   "id": "5235cfa5",
   "metadata": {},
   "outputs": [
    {
     "name": "stdout",
     "output_type": "stream",
     "text": [
      "+----------+--------------------+--------------------+-------+\n",
      "|EmployeeID|          Department|             JobRole|row_num|\n",
      "+----------+--------------------+--------------------+-------+\n",
      "|         1|               Sales|     Sales Executive|      1|\n",
      "|      1012|               Sales|     Sales Executive|      2|\n",
      "|      1014|               Sales|     Sales Executive|      3|\n",
      "|      1003|Research & Develo...|Manufacturing Dir...|      1|\n",
      "|      1034|Research & Develo...|Manufacturing Dir...|      2|\n",
      "|      1038|Research & Develo...|Manufacturing Dir...|      3|\n",
      "|       100|Research & Develo...|Laboratory Techni...|      1|\n",
      "|      1001|Research & Develo...|Laboratory Techni...|      2|\n",
      "|      1002|Research & Develo...|Laboratory Techni...|      3|\n",
      "|      1013|               Sales|Sales Representative|      1|\n",
      "|      1022|               Sales|Sales Representative|      2|\n",
      "|      1057|               Sales|Sales Representative|      3|\n",
      "|        10|Research & Develo...|Healthcare Repres...|      1|\n",
      "|      1008|Research & Develo...|Healthcare Repres...|      2|\n",
      "|      1035|Research & Develo...|Healthcare Repres...|      3|\n",
      "|      1016|Research & Develo...|  Research Scientist|      1|\n",
      "|      1017|Research & Develo...|  Research Scientist|      2|\n",
      "|       102|Research & Develo...|  Research Scientist|      3|\n",
      "|      1000|     Human Resources|             Manager|      1|\n",
      "|       106|     Human Resources|             Manager|      2|\n",
      "+----------+--------------------+--------------------+-------+\n",
      "only showing top 20 rows\n",
      "\n"
     ]
    }
   ],
   "source": [
    "spark.sql(\"\"\"\n",
    "            select * from (\n",
    "            select EmployeeID,Department,JobRole, row_number() over(partition by JobRole\n",
    "            order by EmployeeID) as row_num from hrtable) \n",
    "            where row_num<4\"\"\").show()"
   ]
  },
  {
   "cell_type": "markdown",
   "id": "b8e2eacb",
   "metadata": {},
   "source": [
    "#### 3. write a query to show top3 employee from each job role earning maximum salary "
   ]
  },
  {
   "cell_type": "code",
   "execution_count": 35,
   "id": "b823ed06",
   "metadata": {},
   "outputs": [
    {
     "name": "stdout",
     "output_type": "stream",
     "text": [
      "+----------+--------------------+--------------------+------+--------+\n",
      "|EmployeeID|          Department|             JobRole|Income|rank_num|\n",
      "+----------+--------------------+--------------------+------+--------+\n",
      "|        99|               Sales|     Sales Executive| 13872|       1|\n",
      "|       545|               Sales|     Sales Executive| 13770|       2|\n",
      "|       839|               Sales|     Sales Executive| 13758|       3|\n",
      "|       722|Research & Develo...|Manufacturing Dir...| 13973|       1|\n",
      "|       628|Research & Develo...|Manufacturing Dir...| 13826|       2|\n",
      "|       744|Research & Develo...|Manufacturing Dir...| 13726|       3|\n",
      "|       678|Research & Develo...|Laboratory Techni...|  7403|       1|\n",
      "|       817|Research & Develo...|Laboratory Techni...|  6782|       2|\n",
      "|       945|Research & Develo...|Laboratory Techni...|  6674|       3|\n",
      "|       565|               Sales|Sales Representative|  6632|       1|\n",
      "|      1308|               Sales|Sales Representative|  5405|       2|\n",
      "|      1220|               Sales|Sales Representative|  4502|       3|\n",
      "|      1181|Research & Develo...|Healthcare Repres...| 13966|       1|\n",
      "|       317|Research & Develo...|Healthcare Repres...| 13964|       2|\n",
      "|       190|Research & Develo...|Healthcare Repres...| 13734|       3|\n",
      "|        68|Research & Develo...|  Research Scientist|  9724|       1|\n",
      "|      1315|Research & Develo...|  Research Scientist|  6962|       2|\n",
      "|      1305|Research & Develo...|  Research Scientist|  6854|       3|\n",
      "|       191|Research & Develo...|             Manager| 19999|       1|\n",
      "|       852|Research & Develo...|             Manager| 19943|       2|\n",
      "+----------+--------------------+--------------------+------+--------+\n",
      "only showing top 20 rows\n",
      "\n"
     ]
    }
   ],
   "source": [
    "spark.sql(\"\"\"\n",
    "            select * from (\n",
    "            select EmployeeID,Department,JobRole,Income,rank() over(partition by JobRole\n",
    "            order by Income desc) as rank_num from hrtable) \n",
    "            where rank_num<4\"\"\").show()"
   ]
  },
  {
   "cell_type": "code",
   "execution_count": 15,
   "id": "cf21aaa3",
   "metadata": {},
   "outputs": [
    {
     "data": {
      "text/plain": [
       "['EmployeeID',\n",
       " 'Department',\n",
       " 'JobRole',\n",
       " 'Attrition',\n",
       " 'Gender',\n",
       " 'Age',\n",
       " 'MaritalStatus',\n",
       " 'Education',\n",
       " 'EducationField',\n",
       " 'BusinessTravel',\n",
       " 'JobInvolvement',\n",
       " 'JobLevel',\n",
       " 'JobSatisfaction',\n",
       " 'Hourlyrate',\n",
       " 'Income',\n",
       " 'Salaryhike',\n",
       " 'OverTime',\n",
       " 'Workex',\n",
       " 'YearsSinceLastPromotion',\n",
       " 'EmpSatisfaction',\n",
       " 'TrainingTimesLastYear',\n",
       " 'WorkLifeBalance',\n",
       " 'Performance_Rating']"
      ]
     },
     "execution_count": 15,
     "metadata": {},
     "output_type": "execute_result"
    }
   ],
   "source": [
    "hremployeeDF.columns"
   ]
  },
  {
   "cell_type": "markdown",
   "id": "bc918dcc",
   "metadata": {},
   "source": [
    "#### 4. show top3 highest package for overall job role"
   ]
  },
  {
   "cell_type": "code",
   "execution_count": 37,
   "id": "55b0b1c9",
   "metadata": {},
   "outputs": [
    {
     "name": "stdout",
     "output_type": "stream",
     "text": [
      "+----------+--------------------+-----------------+------+--------+\n",
      "|EmployeeID|          Department|          JobRole|Income|rank_num|\n",
      "+----------+--------------------+-----------------+------+--------+\n",
      "|       191|Research & Develo...|          Manager| 19999|       1|\n",
      "|       747|Research & Develo...|Research Director| 19973|       2|\n",
      "|       852|Research & Develo...|          Manager| 19943|       3|\n",
      "+----------+--------------------+-----------------+------+--------+\n",
      "\n"
     ]
    }
   ],
   "source": [
    "spark.sql(\"\"\"\n",
    "            select * from (\n",
    "            select EmployeeID,Department,JobRole,Income,rank() over(\n",
    "            order by Income desc) as rank_num from hrtable) \n",
    "            where rank_num<4\"\"\").show()"
   ]
  },
  {
   "cell_type": "markdown",
   "id": "f65e3307",
   "metadata": {},
   "source": [
    "#### 5. Dense Rank()"
   ]
  },
  {
   "cell_type": "code",
   "execution_count": 45,
   "id": "5db8a2e0",
   "metadata": {},
   "outputs": [
    {
     "name": "stdout",
     "output_type": "stream",
     "text": [
      "+----------+----------+---------------+---+------+------+------+-----------+\n",
      "|employeeid|department|        jobrole|age|gender|income|workex|rank_by_age|\n",
      "+----------+----------+---------------+---+------+------+------+-----------+\n",
      "|        97|     Sales|Sales Executive| 24|Female|  4999|     4|          1|\n",
      "|       526|     Sales|Sales Executive| 24|Female|  4577|     4|          1|\n",
      "|       381|     Sales|Sales Executive| 24|Female|  4260|     5|          2|\n",
      "|      1026|     Sales|Sales Executive| 24|Female|  4162|     5|          2|\n",
      "|       518|     Sales|Sales Executive| 25|  Male|  4851|     4|          3|\n",
      "|       398|     Sales|Sales Executive| 25|Female|  4487|     5|          4|\n",
      "|       635|     Sales|Sales Executive| 25|  Male|  4194|     5|          4|\n",
      "|       639|     Sales|Sales Executive| 25|  Male|  4256|     5|          4|\n",
      "|       886|     Sales|Sales Executive| 25|  Male|  4950|     5|          4|\n",
      "|       108|     Sales|Sales Executive| 25|  Male|  5744|     6|          5|\n",
      "|       139|     Sales|Sales Executive| 25|  Male|  8639|     6|          5|\n",
      "|       564|     Sales|Sales Executive| 25|Female|  6180|     6|          5|\n",
      "|       994|     Sales|Sales Executive| 25|  Male|  6232|     6|          5|\n",
      "|      1433|     Sales|Sales Executive| 25|Female|  4907|     6|          5|\n",
      "|        55|     Sales|Sales Executive| 26|Female|  4157|     5|          6|\n",
      "|      1309|     Sales|Sales Executive| 26|  Male|  4684|     5|          6|\n",
      "|       476|     Sales|Sales Executive| 26|  Male|  6272|     6|          7|\n",
      "|       574|     Sales|Sales Executive| 26|  Male|  5326|     6|          7|\n",
      "|       686|     Sales|Sales Executive| 26|  Male|  4294|     7|          8|\n",
      "|       749|     Sales|Sales Executive| 26|  Male|  4969|     7|          8|\n",
      "+----------+----------+---------------+---+------+------+------+-----------+\n",
      "only showing top 20 rows\n",
      "\n"
     ]
    }
   ],
   "source": [
    "spark.sql(\"\"\"\n",
    "        select employeeid, department,jobrole,age, gender, income,workex,\n",
    "        dense_rank() over(partition by JobRole order by age, workex) as rank_by_age \n",
    "        from hrtable\n",
    "        \"\"\").show()"
   ]
  },
  {
   "cell_type": "markdown",
   "id": "7d8666e2",
   "metadata": {},
   "source": [
    "#### 6.Lag()\n",
    "    - Is a window function that allows you access records from previous row\n",
    "    \n",
    "    - It will be useful in comparing records between rows or calculation differences \n",
    "    - lag(column_name, offset, default)"
   ]
  },
  {
   "cell_type": "code",
   "execution_count": 48,
   "id": "2695f3d0",
   "metadata": {},
   "outputs": [
    {
     "name": "stdout",
     "output_type": "stream",
     "text": [
      "+----------+----------+---------------+---+------+------+---------------+\n",
      "|employeeid|department|        jobrole|age|gender|income|previous_income|\n",
      "+----------+----------+---------------+---+------+------+---------------+\n",
      "|         1|     Sales|Sales Executive| 41|Female|  5993|              0|\n",
      "|      1012|     Sales|Sales Executive| 36|Female|  9278|              0|\n",
      "|      1014|     Sales|Sales Executive| 30|Female|  4779|           5993|\n",
      "|      1020|     Sales|Sales Executive| 36|Female|  5647|           9278|\n",
      "|      1026|     Sales|Sales Executive| 24|Female|  4162|           4779|\n",
      "|      1027|     Sales|Sales Executive| 32|  Male|  9204|           5647|\n",
      "|      1031|     Sales|Sales Executive| 31|  Male| 10793|           4162|\n",
      "|      1032|     Sales|Sales Executive| 46|  Male| 10096|           9204|\n",
      "|      1039|     Sales|Sales Executive| 48|  Male|  5486|          10793|\n",
      "|      1042|     Sales|Sales Executive| 28|  Male|  8463|          10096|\n",
      "|      1048|     Sales|Sales Executive| 33|  Male|  4373|           5486|\n",
      "|      1049|     Sales|Sales Executive| 34|  Male|  4759|           8463|\n",
      "|      1050|     Sales|Sales Executive| 30|  Male|  5301|           4373|\n",
      "|      1052|     Sales|Sales Executive| 44|Female|  4768|           4759|\n",
      "|      1058|     Sales|Sales Executive| 29|Female|  5765|           5301|\n",
      "|      1059|     Sales|Sales Executive| 34|Female|  4599|           4768|\n",
      "|      1063|     Sales|Sales Executive| 29|  Male|  8620|           5765|\n",
      "|      1067|     Sales|Sales Executive| 47|Female|  4591|           4599|\n",
      "|      1070|     Sales|Sales Executive| 28|  Male|  4898|           8620|\n",
      "|       108|     Sales|Sales Executive| 25|  Male|  5744|           4591|\n",
      "+----------+----------+---------------+---+------+------+---------------+\n",
      "only showing top 20 rows\n",
      "\n"
     ]
    }
   ],
   "source": [
    "spark.sql(\"\"\"\n",
    "        select employeeid, department,jobrole,age, gender,income, lag(income,2,0)\n",
    "        over(partition by JobRole order by employeeid) as previous_income \n",
    "        from hrtable\n",
    "        \"\"\").show()"
   ]
  },
  {
   "cell_type": "markdown",
   "id": "ba4eacb9",
   "metadata": {},
   "source": [
    "### 7. NTILE()\n",
    "    - Dividing records into quantile"
   ]
  },
  {
   "cell_type": "code",
   "execution_count": 52,
   "id": "a9da625e",
   "metadata": {},
   "outputs": [
    {
     "name": "stdout",
     "output_type": "stream",
     "text": [
      "+----------+--------------------+--------------------+---+------+------+----------------+\n",
      "|employeeid|          department|             jobrole|age|gender|income|salary_quantiler|\n",
      "+----------+--------------------+--------------------+---+------+------+----------------+\n",
      "|       514|Research & Develo...|  Research Scientist| 20|  Male|  1009|               1|\n",
      "|       728|Research & Develo...|  Research Scientist| 18|  Male|  1051|               1|\n",
      "|       765|               Sales|Sales Representative| 28|  Male|  1052|               1|\n",
      "|      1338|               Sales|Sales Representative| 30|  Male|  1081|               1|\n",
      "|      1365|               Sales|Sales Representative| 29|  Male|  1091|               1|\n",
      "|       178|Research & Develo...|Laboratory Techni...| 19|  Male|  1102|               1|\n",
      "|       912|               Sales|Sales Representative| 25|  Male|  1118|               1|\n",
      "|      1402|Research & Develo...|Laboratory Techni...| 31|Female|  1129|               1|\n",
      "|       302|               Sales|Sales Representative| 18|Female|  1200|               1|\n",
      "|       911|Research & Develo...|  Research Scientist| 23|  Male|  1223|               1|\n",
      "|        24|Research & Develo...|  Research Scientist| 21|  Male|  1232|               1|\n",
      "|      1017|Research & Develo...|  Research Scientist| 31|Female|  1261|               1|\n",
      "|      1053|Research & Develo...|  Research Scientist| 30|  Male|  1274|               1|\n",
      "|       516|Research & Develo...|Laboratory Techni...| 35|  Male|  1281|               1|\n",
      "|      1013|               Sales|Sales Representative| 31|Female|  1359|               1|\n",
      "|      1205|Research & Develo...|Laboratory Techni...| 32|  Male|  1393|               1|\n",
      "|       778|Research & Develo...|Laboratory Techni...| 21|Female|  1416|               1|\n",
      "|       297|Research & Develo...|Laboratory Techni...| 18|  Male|  1420|               1|\n",
      "|       150|Research & Develo...|Laboratory Techni...| 19|Female|  1483|               1|\n",
      "|      1311|Research & Develo...|  Research Scientist| 18|Female|  1514|               1|\n",
      "|      1222|     Human Resources|     Human Resources| 24|  Male|  1555|               1|\n",
      "|      1069|Research & Develo...|  Research Scientist| 28|  Male|  1563|               1|\n",
      "|      1153|               Sales|Sales Representative| 18|Female|  1569|               1|\n",
      "|       586|Research & Develo...|Laboratory Techni...| 23|  Male|  1601|               1|\n",
      "|       973|Research & Develo...|Laboratory Techni...| 18|Female|  1611|               1|\n",
      "|       128|               Sales|Sales Representative| 19|  Male|  1675|               1|\n",
      "|       417|Research & Develo...|Laboratory Techni...| 38|  Male|  1702|               1|\n",
      "|       616|Research & Develo...|  Research Scientist| 27|  Male|  1706|               1|\n",
      "|      1438|               Sales|Sales Representative| 23|  Male|  1790|               1|\n",
      "|       893|Research & Develo...|  Research Scientist| 19|Female|  1859|               1|\n",
      "|       458|               Sales|Sales Representative| 18|  Male|  1878|               1|\n",
      "|       829|Research & Develo...|Laboratory Techni...| 18|  Male|  1904|               1|\n",
      "|        41|Research & Develo...|Laboratory Techni...| 35|  Male|  1951|               1|\n",
      "|      1457|Research & Develo...|  Research Scientist| 40|Female|  2001|               1|\n",
      "|       770|Research & Develo...|  Research Scientist| 26|Female|  2007|               1|\n",
      "|       672|Research & Develo...|Laboratory Techni...| 34|  Male|  2008|               1|\n",
      "|      1415|Research & Develo...|Laboratory Techni...| 33|  Male|  2008|               1|\n",
      "|       892|Research & Develo...|  Research Scientist| 44|Female|  2011|               1|\n",
      "|      1180|Research & Develo...|Laboratory Techni...| 36|  Male|  2013|               1|\n",
      "|        38|               Sales|Sales Representative| 35|Female|  2014|               1|\n",
      "|      1083|Research & Develo...|Laboratory Techni...| 40|  Male|  2018|               1|\n",
      "|       637|Research & Develo...|  Research Scientist| 35|Female|  2022|               1|\n",
      "|       162|Research & Develo...|  Research Scientist| 27|  Male|  2024|               1|\n",
      "|        15|Research & Develo...|Laboratory Techni...| 28|  Male|  2028|               1|\n",
      "|      1210|Research & Develo...|Laboratory Techni...| 33|  Male|  2028|               1|\n",
      "|       978|Research & Develo...|  Research Scientist| 34|Female|  2029|               1|\n",
      "|       481|               Sales|Sales Representative| 30|  Male|  2033|               1|\n",
      "|      1061|               Sales|Sales Representative| 24|Female|  2033|               1|\n",
      "|       100|Research & Develo...|Laboratory Techni...| 44|  Male|  2042|               1|\n",
      "|       763|Research & Develo...|  Research Scientist| 26|  Male|  2042|               1|\n",
      "|       663|               Sales|Sales Representative| 20|Female|  2044|               1|\n",
      "|      1283|Research & Develo...|  Research Scientist| 28|  Male|  2044|               1|\n",
      "|       513|Research & Develo...|  Research Scientist| 27|  Male|  2045|               1|\n",
      "|       218|Research & Develo...|  Research Scientist| 29|  Male|  2058|               1|\n",
      "|      1118|Research & Develo...|  Research Scientist| 26|Female|  2061|               1|\n",
      "|      1343|Research & Develo...|Laboratory Techni...| 29|  Male|  2062|               1|\n",
      "|      1064|     Human Resources|     Human Resources| 30|  Male|  2064|               1|\n",
      "|      1024|Research & Develo...|  Research Scientist| 56|Female|  2066|               1|\n",
      "|       273|Research & Develo...|  Research Scientist| 28|  Male|  2070|               1|\n",
      "|       816|Research & Develo...|  Research Scientist| 21|Female|  2070|               1|\n",
      "|       101|     Human Resources|     Human Resources| 37|  Male|  2073|               1|\n",
      "|      1127|Research & Develo...|  Research Scientist| 23|  Male|  2073|               1|\n",
      "|      1110|Research & Develo...|Laboratory Techni...| 35|Female|  2074|               1|\n",
      "|        88|Research & Develo...|Laboratory Techni...| 51|  Male|  2075|               1|\n",
      "|       934|Research & Develo...|  Research Scientist| 28|  Male|  2080|               1|\n",
      "|       502|Research & Develo...|  Research Scientist| 30|Female|  2083|               1|\n",
      "|        34|               Sales|Sales Representative| 39|  Male|  2086|               1|\n",
      "|       173|Research & Develo...|Laboratory Techni...| 36|  Male|  2088|               1|\n",
      "|       194|Research & Develo...|  Research Scientist| 43|  Male|  2089|               1|\n",
      "|         3|Research & Develo...|Laboratory Techni...| 37|  Male|  2090|               1|\n",
      "|       442|Research & Develo...|Laboratory Techni...| 42|  Male|  2093|               1|\n",
      "|       479|               Sales|Sales Representative| 25|  Male|  2096|               1|\n",
      "|       935|Research & Develo...|  Research Scientist| 25|Female|  2096|               1|\n",
      "|       420|Research & Develo...|Laboratory Techni...| 30|  Male|  2097|               1|\n",
      "|      1018|Research & Develo...|Laboratory Techni...| 27|  Male|  2099|               1|\n",
      "|      1321|Research & Develo...|Laboratory Techni...| 47|Female|  2105|               1|\n",
      "|       865|Research & Develo...|  Research Scientist| 41|  Male|  2107|               1|\n",
      "|      1036|     Human Resources|     Human Resources| 31|Female|  2109|               1|\n",
      "|      1258|Research & Develo...|  Research Scientist| 29|Female|  2109|               1|\n",
      "|       286|Research & Develo...|  Research Scientist| 37|Female|  2115|               1|\n",
      "|       337|Research & Develo...|Laboratory Techni...| 29|  Male|  2119|               1|\n",
      "|       689|               Sales|Sales Representative| 19|  Male|  2121|               1|\n",
      "|       477|Research & Develo...|Laboratory Techni...| 24|  Male|  2127|               1|\n",
      "|      1029|Research & Develo...|  Research Scientist| 41|  Male|  2127|               1|\n",
      "|       721|Research & Develo...|  Research Scientist| 30|Female|  2132|               1|\n",
      "|      1092|Research & Develo...|  Research Scientist| 45|  Male|  2132|               1|\n",
      "|      1373|Research & Develo...|  Research Scientist| 38|Female|  2133|               1|\n",
      "|      1141|Research & Develo...|  Research Scientist| 30|  Male|  2141|               1|\n",
      "|       600|     Human Resources|     Human Resources| 36|  Male|  2143|               1|\n",
      "|      1381|Research & Develo...|  Research Scientist| 28|  Male|  2144|               1|\n",
      "|      1245|     Human Resources|     Human Resources| 24|  Male|  2145|               1|\n",
      "|      1297|     Human Resources|     Human Resources| 26|Female|  2148|               1|\n",
      "|       208|Research & Develo...|Laboratory Techni...| 36|Female|  2153|               1|\n",
      "|       922|Research & Develo...|Laboratory Techni...| 28|  Male|  2154|               1|\n",
      "|       698|               Sales|Sales Representative| 29|Female|  2157|               1|\n",
      "|      1171|Research & Develo...|Laboratory Techni...| 40|  Male|  2166|               1|\n",
      "|       860|Research & Develo...|  Research Scientist| 29|Female|  2168|               1|\n",
      "|       358|               Sales|Sales Representative| 21|Female|  2174|               1|\n",
      "|       263|Research & Develo...|Laboratory Techni...| 32|  Male|  2176|               1|\n",
      "|       226|Research & Develo...|  Research Scientist| 59|  Male|  2177|               1|\n",
      "|       760|     Human Resources|     Human Resources| 45|  Male|  2177|               1|\n",
      "|      1246|     Human Resources|     Human Resources| 30|Female|  2180|               1|\n",
      "|       486|Research & Develo...|  Research Scientist| 27|Female|  2187|               1|\n",
      "|      1411|     Human Resources|     Human Resources| 25|Female|  2187|               1|\n",
      "|        69|Research & Develo...|  Research Scientist| 35|  Male|  2194|               1|\n",
      "|       372|Research & Develo...|  Research Scientist| 29|  Male|  2201|               1|\n",
      "|        33|Research & Develo...|Laboratory Techni...| 30|  Male|  2206|               1|\n",
      "|       794|Research & Develo...|Laboratory Techni...| 28|  Male|  2207|               1|\n",
      "|       872|Research & Develo...|Laboratory Techni...| 24|Female|  2210|               1|\n",
      "|       362|Research & Develo...|Laboratory Techni...| 40|Female|  2213|               1|\n",
      "|       541|Research & Develo...|  Research Scientist| 28|Female|  2216|               1|\n",
      "|       400|Research & Develo...|Laboratory Techni...| 31|  Male|  2218|               1|\n",
      "|       764|               Sales|Sales Representative| 34|Female|  2220|               1|\n",
      "|      1367|Research & Develo...|  Research Scientist| 27|  Male|  2226|               1|\n",
      "|       160|               Sales|Sales Representative| 34|Female|  2231|               1|\n",
      "|       241|Research & Develo...|Laboratory Techni...| 39|Female|  2232|               1|\n",
      "|       890|Research & Develo...|  Research Scientist| 27|  Male|  2235|               1|\n",
      "|       149|Research & Develo...|Laboratory Techni...| 41|  Male|  2238|               1|\n",
      "|       384|Research & Develo...|  Research Scientist| 22|Female|  2244|               1|\n",
      "|       396|Research & Develo...|Laboratory Techni...| 43|  Male|  2258|               1|\n",
      "|       841|Research & Develo...|Laboratory Techni...| 35|  Male|  2258|               1|\n",
      "|       679|Research & Develo...|  Research Scientist| 48|  Male|  2259|               1|\n",
      "|       233|     Human Resources|     Human Resources| 59|  Male|  2267|               1|\n",
      "|        50|Research & Develo...|Laboratory Techni...| 35|  Male|  2269|               1|\n",
      "|      1428|               Sales|Sales Representative| 32|  Male|  2269|               1|\n",
      "|       714|Research & Develo...|Laboratory Techni...| 45|Female|  2270|               1|\n",
      "|      1082|Research & Develo...|Laboratory Techni...| 23|  Male|  2272|               1|\n",
      "|       604|Research & Develo...|  Research Scientist| 45|Female|  2274|               1|\n",
      "|      1213|               Sales|Sales Representative| 23|  Male|  2275|               1|\n",
      "|       656|     Human Resources|     Human Resources| 33|  Male|  2277|               1|\n",
      "|       192|Research & Develo...|  Research Scientist| 27|Female|  2279|               1|\n",
      "|       386|Research & Develo...|  Research Scientist| 30|  Male|  2285|               1|\n",
      "|       180|Research & Develo...|Laboratory Techni...| 38|Female|  2288|               1|\n",
      "|      1266|Research & Develo...|Laboratory Techni...| 41|  Male|  2289|               1|\n",
      "|       863|Research & Develo...|  Research Scientist| 44|  Male|  2290|               1|\n",
      "|        35|Research & Develo...|  Research Scientist| 24|  Male|  2293|               1|\n",
      "|        43|Research & Develo...|Laboratory Techni...| 26|  Male|  2293|               1|\n",
      "|      1097|Research & Develo...|Laboratory Techni...| 24|  Male|  2296|               1|\n",
      "|       556|               Sales|Sales Representative| 29|  Male|  2297|               1|\n",
      "|       953|               Sales|Sales Representative| 31|Female|  2302|               1|\n",
      "|      1224|Research & Develo...|Laboratory Techni...| 26|  Male|  2305|               1|\n",
      "|       153|               Sales|Sales Representative| 53|  Male|  2306|               1|\n",
      "|      1353|Research & Develo...|  Research Scientist| 34|  Male|  2307|               1|\n",
      "|      1087|               Sales|Sales Representative| 34|  Male|  2308|               1|\n",
      "|       182|Research & Develo...|  Research Scientist| 34|Female|  2311|               1|\n",
      "|       799|Research & Develo...|  Research Scientist| 33|  Male|  2313|               1|\n",
      "|       638|Research & Develo...|Laboratory Techni...| 32|  Male|  2314|               1|\n",
      "|       671|Research & Develo...|  Research Scientist| 27|Female|  2318|               1|\n",
      "|       590|Research & Develo...|Laboratory Techni...| 29|Female|  2319|               1|\n",
      "|       710|Research & Develo...|  Research Scientist| 31|  Male|  2321|               1|\n",
      "|        87|               Sales|Sales Representative| 23|  Male|  2322|               1|\n",
      "|       161|Research & Develo...|  Research Scientist| 22|  Male|  2323|               1|\n",
      "|       777|               Sales|Sales Representative| 20|Female|  2323|               1|\n",
      "|       172|               Sales|Sales Representative| 19|Female|  2325|               1|\n",
      "|       295|Research & Develo...|  Research Scientist| 37|  Male|  2326|               1|\n",
      "|       207|Research & Develo...|  Research Scientist| 22|  Male|  2328|               1|\n",
      "|       676|               Sales|Sales Representative| 31|  Male|  2329|               1|\n",
      "|       683|Research & Develo...|Laboratory Techni...| 32|Female|  2332|               1|\n",
      "|      1313|     Human Resources|     Human Resources| 29|  Male|  2335|               1|\n",
      "|      1444|Research & Develo...|Laboratory Techni...| 56|  Male|  2339|               1|\n",
      "|       253|Research & Develo...|  Research Scientist| 29|  Male|  2340|               1|\n",
      "|       464|Research & Develo...|Laboratory Techni...| 26|  Male|  2340|               1|\n",
      "|        42|Research & Develo...|Laboratory Techni...| 27|Female|  2341|               1|\n",
      "|       554|Research & Develo...|  Research Scientist| 40|Female|  2342|               1|\n",
      "|       634|     Human Resources|     Human Resources| 36|  Male|  2342|               1|\n",
      "|       755|               Sales|Sales Representative| 33|Female|  2342|               1|\n",
      "|      1279|Research & Develo...|  Research Scientist| 44|  Male|  2342|               1|\n",
      "|      1046|Research & Develo...|  Research Scientist| 40|  Male|  2345|               1|\n",
      "|       154|Research & Develo...|Laboratory Techni...| 45|  Male|  2348|               1|\n",
      "|       416|               Sales|Sales Representative| 34|Female|  2351|               1|\n",
      "|       645|Research & Develo...|  Research Scientist| 31|  Male|  2356|               1|\n",
      "|       954|Research & Develo...|Laboratory Techni...| 44|  Male|  2362|               1|\n",
      "|      1077|Research & Develo...|  Research Scientist| 29|  Male|  2362|               1|\n",
      "|       615|Research & Develo...|  Research Scientist| 26|Female|  2366|               1|\n",
      "|      1114|Research & Develo...|  Research Scientist| 48|Female|  2367|               1|\n",
      "|      1390|Research & Develo...|Laboratory Techni...| 28|  Male|  2367|               1|\n",
      "|       126|Research & Develo...|  Research Scientist| 26|Female|  2368|               1|\n",
      "|       352|Research & Develo...|Laboratory Techni...| 32|Female|  2370|               1|\n",
      "|       926|Research & Develo...|  Research Scientist| 42|Female|  2372|               1|\n",
      "|       939|Research & Develo...|  Research Scientist| 58|  Male|  2372|               1|\n",
      "|       289|Research & Develo...|Laboratory Techni...| 26|  Male|  2373|               1|\n",
      "|       849|Research & Develo...|Laboratory Techni...| 35|  Male|  2376|               1|\n",
      "|       669|Research & Develo...|  Research Scientist| 28|Female|  2377|               1|\n",
      "|       798|Research & Develo...|Laboratory Techni...| 26|  Male|  2377|               1|\n",
      "|      1317|Research & Develo...|Laboratory Techni...| 27|Female|  2379|               1|\n",
      "|       661|Research & Develo...|Laboratory Techni...| 58|  Male|  2380|               1|\n",
      "|       743|Research & Develo...|Laboratory Techni...| 50|  Male|  2380|               1|\n",
      "|      1436|               Sales|Sales Representative| 21|  Male|  2380|               1|\n",
      "|       968|Research & Develo...|Laboratory Techni...| 40|  Male|  2387|               1|\n",
      "|       230|Research & Develo...|  Research Scientist| 29|  Male|  2389|               1|\n",
      "|       998|Research & Develo...|  Research Scientist| 27|Female|  2394|               1|\n",
      "|      1273|Research & Develo...|Laboratory Techni...| 22|Female|  2398|               1|\n",
      "|       471|               Sales|Sales Representative| 24|  Male|  2400|               1|\n",
      "|       670|Research & Develo...|Laboratory Techni...| 39|  Male|  2404|               1|\n",
      "|       712|Research & Develo...|  Research Scientist| 29|Female|  2404|               1|\n",
      "|        62|Research & Develo...|Laboratory Techni...| 38|Female|  2406|               1|\n",
      "|      1427|Research & Develo...|Laboratory Techni...| 40|  Male|  2406|               1|\n",
      "|      1136|Research & Develo...|Laboratory Techni...| 28|  Male|  2408|               1|\n",
      "|       684|               Sales|Sales Representative| 25|  Male|  2413|               1|\n",
      "|       733|Research & Develo...|Laboratory Techni...| 30|Female|  2422|               1|\n",
      "|        11|Research & Develo...|Laboratory Techni...| 35|  Male|  2426|               1|\n",
      "|      1100|               Sales|Sales Representative| 35|Female|  2430|               1|\n",
      "|      1375|Research & Develo...|  Research Scientist| 32|Female|  2432|               1|\n",
      "|       235|Research & Develo...|Laboratory Techni...| 33|  Male|  2436|               1|\n",
      "|      1435|Research & Develo...|  Research Scientist| 44|  Male|  2436|               1|\n",
      "|      1262|Research & Develo...|  Research Scientist| 43|  Male|  2437|               1|\n",
      "|      1293|Research & Develo...|  Research Scientist| 43|  Male|  2438|               1|\n",
      "|      1332|Research & Develo...|  Research Scientist| 29|  Male|  2439|               1|\n",
      "|      1449|Research & Develo...|  Research Scientist| 32|  Male|  2439|               1|\n",
      "|      1193|Research & Develo...|Laboratory Techni...| 38|Female|  2440|               1|\n",
      "|       557|Research & Develo...|Laboratory Techni...| 53|  Male|  2450|               1|\n",
      "|      1108|Research & Develo...|Laboratory Techni...| 35|  Male|  2450|               1|\n",
      "|       167|Research & Develo...|  Research Scientist| 41|  Male|  2451|               1|\n",
      "|       735|Research & Develo...|Laboratory Techni...| 22|  Male|  2451|               1|\n",
      "|      1104|Research & Develo...|  Research Scientist| 29|  Male|  2451|               1|\n",
      "|       316|Research & Develo...|Laboratory Techni...| 43|Female|  2455|               1|\n",
      "|       780|Research & Develo...|  Research Scientist| 51|  Male|  2461|               1|\n",
      "|      1256|Research & Develo...|Laboratory Techni...| 38|Female|  2468|               1|\n",
      "|      1339|Research & Develo...|  Research Scientist| 22|  Male|  2472|               1|\n",
      "|       382|               Sales|Sales Representative| 30|  Male|  2476|               1|\n",
      "|       319|Research & Develo...|  Research Scientist| 27|Female|  2478|               1|\n",
      "|       701|Research & Develo...|  Research Scientist| 58|  Male|  2479|               1|\n",
      "|        31|Research & Develo...|Laboratory Techni...| 33|  Male|  2496|               1|\n",
      "|       177|Research & Develo...|  Research Scientist| 33|  Male|  2500|               1|\n",
      "|       551|Research & Develo...|Laboratory Techni...| 23|  Male|  2500|               1|\n",
      "|        73|Research & Develo...|  Research Scientist| 31|  Male|  2501|               1|\n",
      "|       597|Research & Develo...|  Research Scientist| 35|Female|  2506|               1|\n",
      "|       809|Research & Develo...|  Research Scientist| 29|Female|  2514|               1|\n",
      "|       633|Research & Develo...|  Research Scientist| 42|  Male|  2515|               1|\n",
      "|       843|Research & Develo...|Laboratory Techni...| 28|Female|  2515|               1|\n",
      "|       903|Research & Develo...|  Research Scientist| 27|  Male|  2517|               1|\n",
      "|       688|Research & Develo...|Laboratory Techni...| 36|  Male|  2519|               1|\n",
      "|       129|Research & Develo...|Laboratory Techni...| 22|  Male|  2523|               1|\n",
      "|       658|Research & Develo...|Laboratory Techni...| 29|Female|  2532|               1|\n",
      "|       971|               Sales|Sales Representative| 27|Female|  2534|               1|\n",
      "|       834|Research & Develo...|  Research Scientist| 27|  Male|  2539|               1|\n",
      "|       378|Research & Develo...|  Research Scientist| 36|Female|  2543|               1|\n",
      "|      1361|Research & Develo...|Laboratory Techni...| 26|  Male|  2544|               1|\n",
      "|       422|Research & Develo...|  Research Scientist| 29|Female|  2546|               1|\n",
      "|       854|Research & Develo...|  Research Scientist| 19|  Male|  2552|               1|\n",
      "|       607|Research & Develo...|  Research Scientist| 34|Female|  2553|               1|\n",
      "|       621|Research & Develo...|  Research Scientist| 35|Female|  2559|               1|\n",
      "|       659|Research & Develo...|  Research Scientist| 44|  Male|  2559|               1|\n",
      "|       902|Research & Develo...|Laboratory Techni...| 48|  Male|  2559|               1|\n",
      "|      1068|Research & Develo...|Laboratory Techni...| 28|  Male|  2561|               1|\n",
      "|       423|     Human Resources|     Human Resources| 19|  Male|  2564|               1|\n",
      "|       427|Research & Develo...|Laboratory Techni...| 30|Female|  2564|               1|\n",
      "|       165|Research & Develo...|  Research Scientist| 27|  Male|  2566|               1|\n",
      "|      1206|Research & Develo...|Laboratory Techni...| 26|  Male|  2570|               1|\n",
      "|      1465|Research & Develo...|Laboratory Techni...| 36|  Male|  2571|               1|\n",
      "|       581|               Sales|Sales Representative| 35|Female|  2572|               1|\n",
      "|       389|Research & Develo...|Laboratory Techni...| 42|Female|  2576|               1|\n",
      "|       495|               Sales|Sales Representative| 34|Female|  2579|               1|\n",
      "|      1170|Research & Develo...|  Research Scientist| 27|  Male|  2580|               1|\n",
      "|       907|Research & Develo...|  Research Scientist| 34|Female|  2585|               1|\n",
      "|      1192|Research & Develo...|Laboratory Techni...| 49|Female|  2587|               1|\n",
      "|      1354|Research & Develo...|Laboratory Techni...| 56|  Male|  2587|               1|\n",
      "|      1289|     Human Resources|     Human Resources| 38|  Male|  2592|               1|\n",
      "|       257|Research & Develo...|Laboratory Techni...| 42|Female|  2593|               1|\n",
      "|       801|Research & Develo...|Laboratory Techni...| 28|  Male|  2596|               1|\n",
      "|       732|Research & Develo...|  Research Scientist| 20|Female|  2600|               1|\n",
      "|       363|               Sales|Sales Representative| 21|  Male|  2610|               1|\n",
      "|       832|Research & Develo...|Laboratory Techni...| 31|  Male|  2610|               1|\n",
      "|       983|Research & Develo...|  Research Scientist| 38|  Male|  2610|               1|\n",
      "|       121|Research & Develo...|  Research Scientist| 30|  Male|  2613|               1|\n",
      "|       491|Research & Develo...|  Research Scientist| 38|Female|  2619|               1|\n",
      "|       222|Research & Develo...|  Research Scientist| 33|Female|  2622|               1|\n",
      "|       916|Research & Develo...|Laboratory Techni...| 21|Female|  2625|               1|\n",
      "|       144|Research & Develo...|  Research Scientist| 30|Female|  2632|               1|\n",
      "|       547|               Sales|Sales Representative| 29|  Male|  2642|               1|\n",
      "|      1102|               Sales|Sales Representative| 36|  Male|  2644|               1|\n",
      "|        36|Research & Develo...|  Research Scientist| 43|Female|  2645|               1|\n",
      "|      1408|Research & Develo...|Laboratory Techni...| 23|  Male|  2647|               1|\n",
      "|       408|Research & Develo...|  Research Scientist| 45|  Male|  2654|               1|\n",
      "|      1204|               Sales|Sales Representative| 48|Female|  2655|               1|\n",
      "|       215|Research & Develo...|  Research Scientist| 30|Female|  2657|               1|\n",
      "|       370|Research & Develo...|  Research Scientist| 31|  Male|  2657|               1|\n",
      "|       506|Research & Develo...|Laboratory Techni...| 26|Female|  2659|               1|\n",
      "|      1422|Research & Develo...|Laboratory Techni...| 35|  Male|  2660|               1|\n",
      "|        14|Research & Develo...|Laboratory Techni...| 34|  Male|  2661|               1|\n",
      "|      1336|Research & Develo...|  Research Scientist| 55|  Male|  2662|               1|\n",
      "|         7|Research & Develo...|Laboratory Techni...| 59|Female|  2670|               1|\n",
      "|       877|               Sales|Sales Representative| 20|  Male|  2678|               1|\n",
      "|      1271|               Sales|Sales Representative| 21|  Male|  2679|               1|\n",
      "|        37|               Sales|Sales Representative| 50|  Male|  2683|               1|\n",
      "|       723|Research & Develo...|  Research Scientist| 38|  Male|  2684|               1|\n",
      "|       563|Research & Develo...|  Research Scientist| 33|  Male|  2686|               1|\n",
      "|      1134|Research & Develo...|Laboratory Techni...| 35|  Male|  2690|               1|\n",
      "|       504|Research & Develo...|  Research Scientist| 34|  Male|  2691|               1|\n",
      "|         8|Research & Develo...|Laboratory Techni...| 30|  Male|  2693|               1|\n",
      "|       664|Research & Develo...|  Research Scientist| 21|Female|  2693|               1|\n",
      "|       587|Research & Develo...|Laboratory Techni...| 24|  Male|  2694|               1|\n",
      "|       313|Research & Develo...|  Research Scientist| 31|  Male|  2695|               1|\n",
      "|       351|     Human Resources|     Human Resources| 42|  Male|  2696|               1|\n",
      "|       595|Research & Develo...|  Research Scientist| 29|  Male|  2700|               1|\n",
      "|        72|Research & Develo...|  Research Scientist| 29|  Male|  2703|               1|\n",
      "|       828|Research & Develo...|  Research Scientist| 28|  Male|  2703|               1|\n",
      "|      1302|Research & Develo...|Laboratory Techni...| 35|  Male|  2705|               1|\n",
      "|      1323|     Human Resources|     Human Resources| 28|  Male|  2706|               1|\n",
      "|       237|Research & Develo...|Laboratory Techni...| 33|Female|  2707|               1|\n",
      "|       163|Research & Develo...|  Research Scientist| 28|  Male|  2713|               1|\n",
      "|       371|               Sales|Sales Representative| 21|Female|  2716|               1|\n",
      "|      1260|Research & Develo...|  Research Scientist| 32|  Male|  2718|               1|\n",
      "|       147|Research & Develo...|Laboratory Techni...| 30|  Male|  2720|               1|\n",
      "|       520|Research & Develo...|  Research Scientist| 29|  Male|  2720|               1|\n",
      "|       259|Research & Develo...|  Research Scientist| 51|  Male|  2723|               1|\n",
      "|       475|Research & Develo...|  Research Scientist| 24|  Male|  2725|               1|\n",
      "|      1197|               Sales|Sales Representative| 20|  Male|  2728|               1|\n",
      "|       204|Research & Develo...|Laboratory Techni...| 40|  Male|  2741|               1|\n",
      "|       454|     Human Resources|     Human Resources| 26|Female|  2741|               1|\n",
      "|       874|Research & Develo...|Laboratory Techni...| 36|  Male|  2741|               1|\n",
      "|      1040|     Human Resources|     Human Resources| 34|Female|  2742|               1|\n",
      "|       753|Research & Develo...|Laboratory Techni...| 36|Female|  2743|               1|\n",
      "|       881|Research & Develo...|Laboratory Techni...| 32|Female|  2743|               1|\n",
      "|       186|Research & Develo...|  Research Scientist| 33|Female|  2756|               1|\n",
      "|       548|Research & Develo...|  Research Scientist| 42|  Male|  2759|               1|\n",
      "|      1249|               Sales|Sales Representative| 29|Female|  2760|               1|\n",
      "|      1263|Research & Develo...|Laboratory Techni...| 42|  Male|  2766|               1|\n",
      "|       433|Research & Develo...|  Research Scientist| 34|  Male|  2768|               1|\n",
      "|       499|Research & Develo...|  Research Scientist| 22|  Male|  2773|               1|\n",
      "|       114|Research & Develo...|Laboratory Techni...| 24|  Male|  2774|               1|\n",
      "|       668|Research & Develo...|Laboratory Techni...| 41|Female|  2778|               1|\n",
      "|       884|Research & Develo...|  Research Scientist| 33|  Male|  2781|               1|\n",
      "|       578|Research & Develo...|  Research Scientist| 37|Female|  2782|               1|\n",
      "|      1420|Research & Develo...|  Research Scientist| 41|  Male|  2782|               1|\n",
      "|      1178|               Sales|Sales Representative| 20|Female|  2783|               1|\n",
      "|       981|               Sales|Sales Representative| 31|Female|  2785|               1|\n",
      "|       293|               Sales|Sales Representative| 31|Female|  2789|               1|\n",
      "|       819|               Sales|Sales Representative| 31|  Male|  2791|               1|\n",
      "|       227|               Sales|Sales Representative| 37|  Male|  2793|               1|\n",
      "|       261|Research & Develo...|Laboratory Techni...| 32|  Male|  2794|               1|\n",
      "|       657|Research & Develo...|Laboratory Techni...| 32|  Male|  2795|               1|\n",
      "|       674|Research & Develo...|  Research Scientist| 33|  Male|  2799|               1|\n",
      "|       646|               Sales|Sales Representative| 29|Female|  2800|               1|\n",
      "|      1329|     Human Resources|     Human Resources| 29|  Male|  2804|               1|\n",
      "|      1455|Research & Develo...|  Research Scientist| 40|  Male|  2809|               1|\n",
      "|      1383|Research & Develo...|Laboratory Techni...| 36|  Male|  2810|               1|\n",
      "|       718|Research & Develo...|Laboratory Techni...| 27|Female|  2811|               1|\n",
      "|      1137|Research & Develo...|  Research Scientist| 22|Female|  2814|               1|\n",
      "|       632|Research & Develo...|Laboratory Techni...| 44|  Male|  2818|               1|\n",
      "|       517|Research & Develo...|  Research Scientist| 23|  Male|  2819|               1|\n",
      "|       766|Research & Develo...|  Research Scientist| 38|  Male|  2821|               1|\n",
      "|       851|               Sales|Sales Representative| 32|Female|  2827|               1|\n",
      "|       119|Research & Develo...|Laboratory Techni...| 36|Female|  2835|               1|\n",
      "|       488|Research & Develo...|  Research Scientist| 20|Female|  2836|               1|\n",
      "|      1426|Research & Develo...|Laboratory Techni...| 32|Female|  2837|               1|\n",
      "|       931|Research & Develo...|Laboratory Techni...| 51|Female|  2838|               1|\n",
      "|       827|     Human Resources|     Human Resources| 38|  Male|  2844|               1|\n",
      "|       364|               Sales|Sales Representative| 33|Female|  2851|               1|\n",
      "|       861|Research & Develo...|  Research Scientist| 22|  Male|  2853|               1|\n",
      "|      1337|               Sales|Sales Representative| 28|Female|  2856|               1|\n",
      "|      1391|               Sales|Sales Representative| 38|  Male|  2858|               1|\n",
      "|        82|Research & Develo...|  Research Scientist| 35|  Male|  2859|               1|\n",
      "|      1233|Research & Develo...|  Research Scientist| 30|  Male|  2862|               1|\n",
      "|      1379|     Human Resources|     Human Resources| 27|Female|  2863|               1|\n",
      "|      1386|Research & Develo...|Laboratory Techni...| 26|  Male|  2867|               1|\n",
      "|       110|Research & Develo...|Laboratory Techni...| 22|Female|  2871|               1|\n",
      "|       913|Research & Develo...|  Research Scientist| 26|  Male|  2875|               1|\n",
      "|       419|Research & Develo...|  Research Scientist| 26|Female|  2886|               1|\n",
      "|       480|Research & Develo...|Laboratory Techni...| 24|Female|  2886|               1|\n",
      "|       109|Research & Develo...|  Research Scientist| 25|  Male|  2889|               1|\n",
      "|      1397|Research & Develo...|  Research Scientist| 54|Female|  2897|               1|\n",
      "|       643|               Sales|Sales Representative| 38|  Male|  2899|               1|\n",
      "|       346|Research & Develo...|  Research Scientist| 23|  Male|  2904|               1|\n",
      "|         4|Research & Develo...|  Research Scientist| 33|Female|  2909|               1|\n",
      "|      1057|               Sales|Sales Representative| 28|  Male|  2909|               1|\n",
      "|        13|Research & Develo...|  Research Scientist| 31|  Male|  2911|               1|\n",
      "|       247|Research & Develo...|  Research Scientist| 33|Female|  2911|               1|\n",
      "|       103|Research & Develo...|Laboratory Techni...| 20|Female|  2926|               2|\n",
      "|      1212|Research & Develo...|  Research Scientist| 34|Female|  2929|               2|\n",
      "|      1252|Research & Develo...|  Research Scientist| 34|  Male|  2932|               2|\n",
      "|      1349|Research & Develo...|  Research Scientist| 26|Female|  2933|               2|\n",
      "|        18|Research & Develo...|Laboratory Techni...| 22|  Male|  2935|               2|\n",
      "|       858|Research & Develo...|  Research Scientist| 44|  Male|  2936|               2|\n",
      "|      1320|Research & Develo...|  Research Scientist| 42|  Male|  2936|               2|\n",
      "|       135|     Human Resources|     Human Resources| 26|Female|  2942|               2|\n",
      "|       773|Research & Develo...|  Research Scientist| 56|Female|  2942|               2|\n",
      "|      1001|Research & Develo...|Laboratory Techni...| 52|Female|  2950|               2|\n",
      "|       102|Research & Develo...|  Research Scientist| 32|  Male|  2956|               2|\n",
      "|      1312|     Human Resources|     Human Resources| 31|  Male|  2956|               2|\n",
      "|        25|Research & Develo...|  Research Scientist| 34|  Male|  2960|               2|\n",
      "|      1464|               Sales|Sales Representative| 26|Female|  2966|               2|\n",
      "|      1115|Research & Develo...|  Research Scientist| 34|  Male|  2972|               2|\n",
      "|       649|               Sales|Sales Representative| 37|Female|  2973|               2|\n",
      "|       690|Research & Develo...|Laboratory Techni...| 20|  Male|  2973|               2|\n",
      "|      1219|Research & Develo...|Laboratory Techni...| 29|Female|  2974|               2|\n",
      "|       348|               Sales|Sales Representative| 47|  Male|  2976|               2|\n",
      "|      1458|Research & Develo...|  Research Scientist| 35|Female|  2977|               2|\n",
      "|       804|Research & Develo...|  Research Scientist| 34|  Male|  2979|               2|\n",
      "|       438|               Sales|Sales Representative| 30|  Male|  2983|               2|\n",
      "|      1400|     Human Resources|     Human Resources| 38|  Male|  2991|               2|\n",
      "|       910|Research & Develo...|  Research Scientist| 19|Female|  2994|               2|\n",
      "|       990|Research & Develo...|  Research Scientist| 37|  Male|  2996|               2|\n",
      "|      1016|Research & Develo...|  Research Scientist| 34|  Male|  2996|               2|\n",
      "|        48|Research & Develo...|  Research Scientist| 37|  Male|  3022|               2|\n",
      "|       857|Research & Develo...|Laboratory Techni...| 20|  Male|  3033|               2|\n",
      "|       387|Research & Develo...|Laboratory Techni...| 37|Female|  3034|               2|\n",
      "|        75|Research & Develo...|Laboratory Techni...| 36|Female|  3038|               2|\n",
      "|       170|Research & Develo...|  Research Scientist| 32|  Male|  3038|               2|\n",
      "|       496|               Sales|Sales Representative| 27|  Male|  3041|               2|\n",
      "|      1265|Research & Develo...|  Research Scientist| 33|  Male|  3055|               2|\n",
      "|       560|Research & Develo...|  Research Scientist| 38|  Male|  3057|               2|\n",
      "|       171|Research & Develo...|  Research Scientist| 27|  Male|  3058|               2|\n",
      "|      1382|Research & Develo...|  Research Scientist| 31|  Male|  3065|               2|\n",
      "|      1417|               Sales|Sales Representative| 31|  Male|  3067|               2|\n",
      "|         6|Research & Develo...|Laboratory Techni...| 32|  Male|  3068|               2|\n",
      "|      1155|Research & Develo...|Laboratory Techni...| 39|  Male|  3069|               2|\n",
      "|       174|Research & Develo...|Laboratory Techni...| 30|  Male|  3072|               2|\n",
      "|       243|Research & Develo...|  Research Scientist| 41|  Male|  3072|               2|\n",
      "|       383|Research & Develo...|  Research Scientist| 26|  Male|  3102|               2|\n",
      "|      1152|Research & Develo...|  Research Scientist| 21|  Male|  3117|               2|\n",
      "|       853|Research & Develo...|Laboratory Techni...| 29|Female|  3131|               2|\n",
      "|       183|               Sales|Sales Representative| 41|Female|  3140|               2|\n",
      "|      1282|Research & Develo...|  Research Scientist| 33|  Male|  3143|               2|\n",
      "|       588|Research & Develo...|Laboratory Techni...| 52|Female|  3149|               2|\n",
      "|       287|Research & Develo...|Laboratory Techni...| 44|  Male|  3161|               2|\n",
      "|       641|Research & Develo...|Laboratory Techni...| 24|  Male|  3162|               2|\n",
      "|      1043|Research & Develo...|Laboratory Techni...| 44|  Male|  3162|               2|\n",
      "|      1060|Research & Develo...|Laboratory Techni...| 24|  Male|  3172|               2|\n",
      "|      1072|Research & Develo...|Laboratory Techni...| 29|Female|  3180|               2|\n",
      "|      1200|     Human Resources|     Human Resources| 44|Female|  3195|               2|\n",
      "|       869|Research & Develo...|Laboratory Techni...| 28|  Male|  3196|               2|\n",
      "|       820|Research & Develo...|  Research Scientist| 28|  Male|  3201|               2|\n",
      "|       415|               Sales|Sales Representative| 24|Female|  3202|               2|\n",
      "|       146|Research & Develo...|  Research Scientist| 30|Female|  3204|               2|\n",
      "|       270|Research & Develo...|Laboratory Techni...| 36|  Male|  3210|               2|\n",
      "|      1147|Research & Develo...|Laboratory Techni...| 49|Female|  3211|               2|\n",
      "|       231|Research & Develo...|Laboratory Techni...| 52|Female|  3212|               2|\n",
      "|       524|Research & Develo...|Laboratory Techni...| 50|  Male|  3221|               2|\n",
      "|      1004|Research & Develo...|Laboratory Techni...| 25|  Male|  3229|               2|\n",
      "|       275|Research & Develo...|  Research Scientist| 21|  Male|  3230|               2|\n",
      "|       575|Research & Develo...|  Research Scientist| 34|Female|  3280|               2|\n",
      "|       824|Research & Develo...|  Research Scientist| 29|Female|  3291|               2|\n",
      "|       666|               Sales|Sales Representative| 47|Female|  3294|               2|\n",
      "|      1028|Research & Develo...|Laboratory Techni...| 34|Female|  3294|               2|\n",
      "|      1238|Research & Develo...|Laboratory Techni...| 23|Female|  3295|               2|\n",
      "|        17|Research & Develo...|  Research Scientist| 32|  Male|  3298|               2|\n",
      "|      1202|Research & Develo...|Laboratory Techni...| 38|Female|  3306|               2|\n",
      "|       290|Research & Develo...|  Research Scientist| 28|Female|  3310|               2|\n",
      "|      1139|Research & Develo...|  Research Scientist| 32|Female|  3312|               2|\n",
      "|       244|Research & Develo...|  Research Scientist| 40|  Male|  3319|               2|\n",
      "|       933|Research & Develo...|Laboratory Techni...| 29|Female|  3339|               2|\n",
      "|       158|Research & Develo...|  Research Scientist| 58|Female|  3346|               2|\n",
      "|       515|Research & Develo...|  Research Scientist| 33|  Male|  3348|               2|\n",
      "|      1423|Research & Develo...|  Research Scientist| 22|  Male|  3375|               2|\n",
      "|       784|Research & Develo...|  Research Scientist| 41|Female|  3376|               2|\n",
      "|      1286|Research & Develo...|Laboratory Techni...| 40|Female|  3377|               2|\n",
      "|        70|Research & Develo...|  Research Scientist| 36|  Male|  3388|               2|\n",
      "|        22|               Sales|Sales Representative| 36|  Male|  3407|               2|\n",
      "|      1130|Research & Develo...|Laboratory Techni...| 35|  Male|  3407|               2|\n",
      "|       437|Research & Develo...|Laboratory Techni...| 33|  Male|  3408|               2|\n",
      "|        39|Research & Develo...|  Research Scientist| 36|Female|  3419|               2|\n",
      "|      1021|Research & Develo...|  Research Scientist| 47|  Male|  3420|               2|\n",
      "|      1047|Research & Develo...|  Research Scientist| 44|  Male|  3420|               2|\n",
      "|       944|     Human Resources|     Human Resources| 46|Female|  3423|               2|\n",
      "|       619|Research & Develo...|  Research Scientist| 25|  Male|  3424|               2|\n",
      "|      1226|Research & Develo...|  Research Scientist| 32|  Male|  3433|               2|\n",
      "|        52|Research & Develo...|Laboratory Techni...| 28|  Male|  3441|               2|\n",
      "|      1248|Research & Develo...|  Research Scientist| 27|Female|  3445|               2|\n",
      "|       497|               Sales|Sales Representative| 21|  Male|  3447|               2|\n",
      "|       392|Research & Develo...|Laboratory Techni...| 40|Female|  3448|               2|\n",
      "|       142|Research & Develo...|  Research Scientist| 45|  Male|  3452|               2|\n",
      "|       365|Research & Develo...|Laboratory Techni...| 37|Female|  3452|               2|\n",
      "|       713|Research & Develo...|  Research Scientist| 33|Female|  3452|               2|\n",
      "|       324|Research & Develo...|  Research Scientist| 28|  Male|  3464|               2|\n",
      "|         5|Research & Develo...|Laboratory Techni...| 27|  Male|  3468|               2|\n",
      "|      1227|Research & Develo...|Laboratory Techni...| 31|  Male|  3477|               2|\n",
      "|       260|Research & Develo...|Laboratory Techni...| 31|  Male|  3479|               2|\n",
      "|      1434|               Sales|Sales Representative| 52|  Male|  3482|               2|\n",
      "|       265|Research & Develo...|Laboratory Techni...| 28|  Male|  3485|               2|\n",
      "|       875|Research & Develo...|Laboratory Techni...| 30|  Male|  3491|               2|\n",
      "|      1023|Research & Develo...|Laboratory Techni...| 37|  Male|  3500|               2|\n",
      "|       566|Research & Develo...|  Research Scientist| 23|  Male|  3505|               2|\n",
      "|       925|Research & Develo...|  Research Scientist| 35|  Male|  3506|               2|\n",
      "|      1169|Research & Develo...|  Research Scientist| 27|Female|  3517|               2|\n",
      "|      1207|Research & Develo...|  Research Scientist| 55|  Male|  3537|               2|\n",
      "|      1269|     Human Resources|     Human Resources| 43|  Male|  3539|               2|\n",
      "|      1328|               Sales|Sales Representative| 27|Female|  3540|               2|\n",
      "|       958|Research & Develo...|  Research Scientist| 40|  Male|  3544|               2|\n",
      "|       196|Research & Develo...|  Research Scientist| 37|  Male|  3564|               2|\n",
      "|      1005|Research & Develo...|Laboratory Techni...| 26|  Male|  3578|               2|\n",
      "|       887|Research & Develo...|  Research Scientist| 30|  Male|  3579|               2|\n",
      "|       640|Research & Develo...|  Research Scientist| 49|Female|  3580|               2|\n",
      "|      1307|Research & Develo...|  Research Scientist| 28|Female|  3591|               2|\n",
      "|       842|Research & Develo...|Laboratory Techni...| 24|  Male|  3597|               2|\n",
      "|       864|     Human Resources|     Human Resources| 33|  Male|  3600|               2|\n",
      "|       692|Research & Develo...|  Research Scientist| 40|  Male|  3617|               2|\n",
      "|       482|Research & Develo...|  Research Scientist| 34|  Male|  3622|               2|\n",
      "|      1002|Research & Develo...|Laboratory Techni...| 37|Female|  3629|               2|\n",
      "|       719|Research & Develo...|Laboratory Techni...| 45|  Male|  3633|               2|\n",
      "|      1033|Research & Develo...|Laboratory Techni...| 39|Female|  3646|               2|\n",
      "|       789|Research & Develo...|  Research Scientist| 28|Female|  3660|               2|\n",
      "|       966|Research & Develo...|Laboratory Techni...| 25|  Male|  3669|               2|\n",
      "|      1051|Research & Develo...|Laboratory Techni...| 42|Female|  3673|               2|\n",
      "|       484|Research & Develo...|Laboratory Techni...| 35|  Male|  3681|               2|\n",
      "|       299|Research & Develo...|Laboratory Techni...| 36|  Male|  3688|               2|\n",
      "|       184|Research & Develo...|Laboratory Techni...| 50|  Male|  3690|               2|\n",
      "|       797|Research & Develo...|Laboratory Techni...| 25|  Male|  3691|               2|\n",
      "|       901|Research & Develo...|  Research Scientist| 36|  Male|  3692|               2|\n",
      "|       335|Research & Develo...|  Research Scientist| 45|  Male|  3697|               2|\n",
      "+----------+--------------------+--------------------+---+------+------+----------------+\n",
      "only showing top 500 rows\n",
      "\n"
     ]
    }
   ],
   "source": [
    "spark.sql(\"\"\"\n",
    "        select employeeid, department,jobrole,age, gender,income, NTILE(4)\n",
    "        over(order by Income) as salary_quantiler \n",
    "        from hrtable\n",
    "        \"\"\").show(500)"
   ]
  },
  {
   "cell_type": "markdown",
   "id": "4c544822",
   "metadata": {},
   "source": [
    "#### calculate max, mean and average income from each quantile"
   ]
  },
  {
   "cell_type": "code",
   "execution_count": 65,
   "id": "87507c78",
   "metadata": {},
   "outputs": [
    {
     "name": "stdout",
     "output_type": "stream",
     "text": [
      "+---------------+------------------+-----------+------+\n",
      "|salary_quantile|       avg(Income)|max(Income)|median|\n",
      "+---------------+------------------+-----------+------+\n",
      "|              1|2353.9972826086955|       2911|  2377|\n",
      "|              2|3966.7356948228885|       4930|  4033|\n",
      "|              3| 6191.138964577656|       8380|  6091|\n",
      "|              4|13522.326975476839|      19999| 13120|\n",
      "+---------------+------------------+-----------+------+\n",
      "\n"
     ]
    }
   ],
   "source": [
    "# mean salary, median, maximum\n",
    "spark.sql(\"\"\"\n",
    "        select salary_quantile,mean(Income),max(Income),percentile_approx(Income,0.5) as median from\n",
    "        (select employeeid, department, jobrole, age, gender,income, NTILE(4)\n",
    "        over(order by Income) as salary_quantile \n",
    "        from hrtable) group by salary_quantile\n",
    "        \"\"\").show()"
   ]
  },
  {
   "cell_type": "markdown",
   "id": "fe1d57a1",
   "metadata": {},
   "source": [
    "### 8.Percent_Rank()\n",
    "    -Window function that calculates relative rank() of row within a result set expressed as percentage"
   ]
  },
  {
   "cell_type": "code",
   "execution_count": 66,
   "id": "219a8b58",
   "metadata": {},
   "outputs": [
    {
     "name": "stdout",
     "output_type": "stream",
     "text": [
      "+----------+----------+-------+---+------+------+------+--------------------+\n",
      "|employeeid|department|jobrole|age|gender|income|workex|        percent_rank|\n",
      "+----------+----------+-------+---+------+------+------+--------------------+\n",
      "|       919|     Sales|Manager| 51|  Male| 19847|    31|                 0.0|\n",
      "|       750|     Sales|Manager| 52|Female| 19845|    33|0.002252252252252...|\n",
      "|      1242|     Sales|Manager| 40|  Male| 19833|    21|0.004504504504504...|\n",
      "|      1116|     Sales|Manager| 55|  Male| 19586|    36|0.006756756756756757|\n",
      "|       234|     Sales|Manager| 50|Female| 19517|    32|0.009009009009009009|\n",
      "|      1126|     Sales|Manager| 50|  Male| 19331|    27| 0.01126126126126126|\n",
      "|       238|     Sales|Manager| 52|  Male| 19068|    33|0.013513513513513514|\n",
      "|        30|     Sales|Manager| 46|Female| 18947|    22|0.015765765765765764|\n",
      "|       914|     Sales|Manager| 45|Female| 18824|    26|0.018018018018018018|\n",
      "|       917|     Sales|Manager| 46|Female| 18789|    26| 0.02027027027027027|\n",
      "|       742|     Sales|Manager| 42|  Male| 18303|    21| 0.02252252252252252|\n",
      "|       908|     Sales|Manager| 44|  Male| 18213|    26|0.024774774774774775|\n",
      "|       418|     Sales|Manager| 40|Female| 18041|    21| 0.02702702702702703|\n",
      "|      1374|     Sales|Manager| 58|Female| 17875|    29| 0.02927927927927928|\n",
      "|       756|     Sales|Manager| 45|Female| 17650|    26| 0.03153153153153153|\n",
      "|      1135|     Sales|Manager| 46|  Male| 17567|    27|0.033783783783783786|\n",
      "|       811|     Sales|Manager| 46|  Male| 17465|    23|0.036036036036036036|\n",
      "|       711|     Sales|Manager| 33|  Male| 17444|    10|0.038288288288288286|\n",
      "|       862|     Sales|Manager| 46|Female| 17048|    28| 0.04054054054054054|\n",
      "|       120|     Sales|Manager| 43|  Male| 16959|    25| 0.04279279279279279|\n",
      "+----------+----------+-------+---+------+------+------+--------------------+\n",
      "only showing top 20 rows\n",
      "\n"
     ]
    }
   ],
   "source": [
    "spark.sql(\"\"\"\n",
    "        select employeeid, department,jobrole,income,workex,\n",
    "        percent_rank() over(partition by department order by income desc, workex) as percent_rank\n",
    "        from hrtable\n",
    "        \"\"\").show()"
   ]
  },
  {
   "cell_type": "markdown",
   "id": "8aa43314",
   "metadata": {},
   "source": [
    "#### Find the total employees in each percentile group 0-25, 25-50, 50-75, 75-100"
   ]
  },
  {
   "cell_type": "code",
   "execution_count": 103,
   "id": "3f29ed02",
   "metadata": {},
   "outputs": [
    {
     "name": "stdout",
     "output_type": "stream",
     "text": [
      "+----------+--------+-------------------+\n",
      "|perc_range|count(1)|    average_percent|\n",
      "+----------+--------+-------------------+\n",
      "|        Q4|     367| 0.8758451785924978|\n",
      "|        Q3|     366| 0.6258331631141983|\n",
      "|        Q2|     367|0.37585415384840765|\n",
      "|        Q1|     369|0.12481905587727776|\n",
      "+----------+--------+-------------------+\n",
      "\n"
     ]
    }
   ],
   "source": [
    "q1 = spark.sql(\"\"\"      \n",
    "        select case \n",
    "        when percent_rank <=0.25 then 'Q1'\n",
    "        when percent_rank <=0.50 then 'Q2'\n",
    "        when percent_rank <=0.75 then 'Q3'\n",
    "        else 'Q4'\n",
    "        end as perc_range, count(*),avg(percent_rank) as average_percent\n",
    "        from (select employeeid, department,jobrole,income,workex,\n",
    "        percent_rank() over(partition by department order by income desc, workex) as percent_rank\n",
    "        from hrtable)\n",
    "        group by perc_range\n",
    "        order by perc_range desc\n",
    "        \"\"\").show()"
   ]
  },
  {
   "cell_type": "code",
   "execution_count": 94,
   "id": "f7707926",
   "metadata": {},
   "outputs": [
    {
     "name": "stdout",
     "output_type": "stream",
     "text": [
      "+----------+\n",
      "|perc_range|\n",
      "+----------+\n",
      "|        Q2|\n",
      "|        Q1|\n",
      "|        Q3|\n",
      "|        Q4|\n",
      "+----------+\n",
      "\n"
     ]
    }
   ],
   "source": [
    "q1 = spark.sql(\"\"\"      \n",
    "        select case \n",
    "        when percent_rank <=0.25 then 'Q1'\n",
    "        when percent_rank <=0.50 then 'Q2'\n",
    "        when percent_rank <=0.75 then 'Q3'\n",
    "        else 'Q4'\n",
    "        end as perc_range\n",
    "        from (select employeeid, department,jobrole,income,workex,\n",
    "        percent_rank() over(partition by department order by income desc, workex) as percent_rank\n",
    "        from hrtable)\n",
    "        group by perc_range\n",
    "        \"\"\").show()"
   ]
  },
  {
   "cell_type": "markdown",
   "id": "5fca4f72",
   "metadata": {},
   "source": [
    "#### show jobrole with maximum Attrition Rate in percentage"
   ]
  },
  {
   "cell_type": "code",
   "execution_count": 135,
   "id": "875bae70",
   "metadata": {},
   "outputs": [
    {
     "ename": "AnalysisException",
     "evalue": "\"grouping expressions sequence is empty, and 'hrtable.`jobrole`' is not an aggregate function. Wrap '(sum(CAST(CASE WHEN (hrtable.`attrition` = 'Yes') THEN 1 ELSE 0 END AS BIGINT)) AS `Attrition`)' in windowing function(s) or wrap 'hrtable.`jobrole`' in first() (or first_value) if you don't care which value you get.;;\\nAggregate [jobrole#2, sum(cast(CASE WHEN (attrition#3 = Yes) THEN 1 ELSE 0 END as bigint)) AS Attrition#2873L]\\n+- SubqueryAlias `hrtable`\\n   +- Relation[EmployeeID#0,Department#1,JobRole#2,Attrition#3,Gender#4,Age#5,MaritalStatus#6,Education#7,EducationField#8,BusinessTravel#9,JobInvolvement#10,JobLevel#11,JobSatisfaction#12,Hourlyrate#13,Income#14,Salaryhike#15,OverTime#16,Workex#17,YearsSinceLastPromotion#18,EmpSatisfaction#19,TrainingTimesLastYear#20,WorkLifeBalance#21,Performance_Rating#22] JDBCRelation(hremployee) [numPartitions=1]\\n\"",
     "output_type": "error",
     "traceback": [
      "\u001b[0;31m---------------------------------------------------------------------------\u001b[0m",
      "\u001b[0;31mPy4JJavaError\u001b[0m                             Traceback (most recent call last)",
      "\u001b[0;32m/usr/local/spark/python/pyspark/sql/utils.py\u001b[0m in \u001b[0;36mdeco\u001b[0;34m(*a, **kw)\u001b[0m\n\u001b[1;32m     62\u001b[0m         \u001b[0;32mtry\u001b[0m\u001b[0;34m:\u001b[0m\u001b[0;34m\u001b[0m\u001b[0;34m\u001b[0m\u001b[0m\n\u001b[0;32m---> 63\u001b[0;31m             \u001b[0;32mreturn\u001b[0m \u001b[0mf\u001b[0m\u001b[0;34m(\u001b[0m\u001b[0;34m*\u001b[0m\u001b[0ma\u001b[0m\u001b[0;34m,\u001b[0m \u001b[0;34m**\u001b[0m\u001b[0mkw\u001b[0m\u001b[0;34m)\u001b[0m\u001b[0;34m\u001b[0m\u001b[0;34m\u001b[0m\u001b[0m\n\u001b[0m\u001b[1;32m     64\u001b[0m         \u001b[0;32mexcept\u001b[0m \u001b[0mpy4j\u001b[0m\u001b[0;34m.\u001b[0m\u001b[0mprotocol\u001b[0m\u001b[0;34m.\u001b[0m\u001b[0mPy4JJavaError\u001b[0m \u001b[0;32mas\u001b[0m \u001b[0me\u001b[0m\u001b[0;34m:\u001b[0m\u001b[0;34m\u001b[0m\u001b[0;34m\u001b[0m\u001b[0m\n",
      "\u001b[0;32m/usr/local/spark/python/lib/py4j-0.10.7-src.zip/py4j/protocol.py\u001b[0m in \u001b[0;36mget_return_value\u001b[0;34m(answer, gateway_client, target_id, name)\u001b[0m\n\u001b[1;32m    327\u001b[0m                     \u001b[0;34m\"An error occurred while calling {0}{1}{2}.\\n\"\u001b[0m\u001b[0;34m.\u001b[0m\u001b[0;34m\u001b[0m\u001b[0;34m\u001b[0m\u001b[0m\n\u001b[0;32m--> 328\u001b[0;31m                     format(target_id, \".\", name), value)\n\u001b[0m\u001b[1;32m    329\u001b[0m             \u001b[0;32melse\u001b[0m\u001b[0;34m:\u001b[0m\u001b[0;34m\u001b[0m\u001b[0;34m\u001b[0m\u001b[0m\n",
      "\u001b[0;31mPy4JJavaError\u001b[0m: An error occurred while calling o59.sql.\n: org.apache.spark.sql.AnalysisException: grouping expressions sequence is empty, and 'hrtable.`jobrole`' is not an aggregate function. Wrap '(sum(CAST(CASE WHEN (hrtable.`attrition` = 'Yes') THEN 1 ELSE 0 END AS BIGINT)) AS `Attrition`)' in windowing function(s) or wrap 'hrtable.`jobrole`' in first() (or first_value) if you don't care which value you get.;;\nAggregate [jobrole#2, sum(cast(CASE WHEN (attrition#3 = Yes) THEN 1 ELSE 0 END as bigint)) AS Attrition#2873L]\n+- SubqueryAlias `hrtable`\n   +- Relation[EmployeeID#0,Department#1,JobRole#2,Attrition#3,Gender#4,Age#5,MaritalStatus#6,Education#7,EducationField#8,BusinessTravel#9,JobInvolvement#10,JobLevel#11,JobSatisfaction#12,Hourlyrate#13,Income#14,Salaryhike#15,OverTime#16,Workex#17,YearsSinceLastPromotion#18,EmpSatisfaction#19,TrainingTimesLastYear#20,WorkLifeBalance#21,Performance_Rating#22] JDBCRelation(hremployee) [numPartitions=1]\n\n\tat org.apache.spark.sql.catalyst.analysis.CheckAnalysis$class.failAnalysis(CheckAnalysis.scala:45)\n\tat org.apache.spark.sql.catalyst.analysis.Analyzer.failAnalysis(Analyzer.scala:95)\n\tat org.apache.spark.sql.catalyst.analysis.CheckAnalysis$$anonfun$checkAnalysis$1.org$apache$spark$sql$catalyst$analysis$CheckAnalysis$class$$anonfun$$checkValidAggregateExpression$1(CheckAnalysis.scala:219)\n\tat org.apache.spark.sql.catalyst.analysis.CheckAnalysis$$anonfun$checkAnalysis$1$$anonfun$apply$10.apply(CheckAnalysis.scala:260)\n\tat org.apache.spark.sql.catalyst.analysis.CheckAnalysis$$anonfun$checkAnalysis$1$$anonfun$apply$10.apply(CheckAnalysis.scala:260)\n\tat scala.collection.immutable.List.foreach(List.scala:392)\n\tat org.apache.spark.sql.catalyst.analysis.CheckAnalysis$$anonfun$checkAnalysis$1.apply(CheckAnalysis.scala:260)\n\tat org.apache.spark.sql.catalyst.analysis.CheckAnalysis$$anonfun$checkAnalysis$1.apply(CheckAnalysis.scala:88)\n\tat org.apache.spark.sql.catalyst.trees.TreeNode.foreachUp(TreeNode.scala:126)\n\tat org.apache.spark.sql.catalyst.analysis.CheckAnalysis$class.checkAnalysis(CheckAnalysis.scala:88)\n\tat org.apache.spark.sql.catalyst.analysis.Analyzer.checkAnalysis(Analyzer.scala:95)\n\tat org.apache.spark.sql.catalyst.analysis.Analyzer$$anonfun$executeAndCheck$1.apply(Analyzer.scala:108)\n\tat org.apache.spark.sql.catalyst.analysis.Analyzer$$anonfun$executeAndCheck$1.apply(Analyzer.scala:105)\n\tat org.apache.spark.sql.catalyst.plans.logical.AnalysisHelper$.markInAnalyzer(AnalysisHelper.scala:201)\n\tat org.apache.spark.sql.catalyst.analysis.Analyzer.executeAndCheck(Analyzer.scala:105)\n\tat org.apache.spark.sql.execution.QueryExecution.analyzed$lzycompute(QueryExecution.scala:58)\n\tat org.apache.spark.sql.execution.QueryExecution.analyzed(QueryExecution.scala:56)\n\tat org.apache.spark.sql.execution.QueryExecution.assertAnalyzed(QueryExecution.scala:48)\n\tat org.apache.spark.sql.Dataset$.ofRows(Dataset.scala:78)\n\tat org.apache.spark.sql.SparkSession.sql(SparkSession.scala:643)\n\tat sun.reflect.GeneratedMethodAccessor79.invoke(Unknown Source)\n\tat sun.reflect.DelegatingMethodAccessorImpl.invoke(DelegatingMethodAccessorImpl.java:43)\n\tat java.lang.reflect.Method.invoke(Method.java:498)\n\tat py4j.reflection.MethodInvoker.invoke(MethodInvoker.java:244)\n\tat py4j.reflection.ReflectionEngine.invoke(ReflectionEngine.java:357)\n\tat py4j.Gateway.invoke(Gateway.java:282)\n\tat py4j.commands.AbstractCommand.invokeMethod(AbstractCommand.java:132)\n\tat py4j.commands.CallCommand.execute(CallCommand.java:79)\n\tat py4j.GatewayConnection.run(GatewayConnection.java:238)\n\tat java.lang.Thread.run(Thread.java:745)\n",
      "\nDuring handling of the above exception, another exception occurred:\n",
      "\u001b[0;31mAnalysisException\u001b[0m                         Traceback (most recent call last)",
      "\u001b[0;32m<ipython-input-135-2e28cc8b8fb4>\u001b[0m in \u001b[0;36m<module>\u001b[0;34m\u001b[0m\n\u001b[1;32m      7\u001b[0m     \u001b[0;32mfrom\u001b[0m \u001b[0mhrtable\u001b[0m\u001b[0;34m\u001b[0m\u001b[0;34m\u001b[0m\u001b[0m\n\u001b[1;32m      8\u001b[0m \u001b[0;34m\u001b[0m\u001b[0m\n\u001b[0;32m----> 9\u001b[0;31m     \"\"\").show()\n\u001b[0m",
      "\u001b[0;32m/usr/local/spark/python/pyspark/sql/session.py\u001b[0m in \u001b[0;36msql\u001b[0;34m(self, sqlQuery)\u001b[0m\n\u001b[1;32m    765\u001b[0m         \u001b[0;34m[\u001b[0m\u001b[0mRow\u001b[0m\u001b[0;34m(\u001b[0m\u001b[0mf1\u001b[0m\u001b[0;34m=\u001b[0m\u001b[0;36m1\u001b[0m\u001b[0;34m,\u001b[0m \u001b[0mf2\u001b[0m\u001b[0;34m=\u001b[0m\u001b[0;34mu'row1'\u001b[0m\u001b[0;34m)\u001b[0m\u001b[0;34m,\u001b[0m \u001b[0mRow\u001b[0m\u001b[0;34m(\u001b[0m\u001b[0mf1\u001b[0m\u001b[0;34m=\u001b[0m\u001b[0;36m2\u001b[0m\u001b[0;34m,\u001b[0m \u001b[0mf2\u001b[0m\u001b[0;34m=\u001b[0m\u001b[0;34mu'row2'\u001b[0m\u001b[0;34m)\u001b[0m\u001b[0;34m,\u001b[0m \u001b[0mRow\u001b[0m\u001b[0;34m(\u001b[0m\u001b[0mf1\u001b[0m\u001b[0;34m=\u001b[0m\u001b[0;36m3\u001b[0m\u001b[0;34m,\u001b[0m \u001b[0mf2\u001b[0m\u001b[0;34m=\u001b[0m\u001b[0;34mu'row3'\u001b[0m\u001b[0;34m)\u001b[0m\u001b[0;34m]\u001b[0m\u001b[0;34m\u001b[0m\u001b[0;34m\u001b[0m\u001b[0m\n\u001b[1;32m    766\u001b[0m         \"\"\"\n\u001b[0;32m--> 767\u001b[0;31m         \u001b[0;32mreturn\u001b[0m \u001b[0mDataFrame\u001b[0m\u001b[0;34m(\u001b[0m\u001b[0mself\u001b[0m\u001b[0;34m.\u001b[0m\u001b[0m_jsparkSession\u001b[0m\u001b[0;34m.\u001b[0m\u001b[0msql\u001b[0m\u001b[0;34m(\u001b[0m\u001b[0msqlQuery\u001b[0m\u001b[0;34m)\u001b[0m\u001b[0;34m,\u001b[0m \u001b[0mself\u001b[0m\u001b[0;34m.\u001b[0m\u001b[0m_wrapped\u001b[0m\u001b[0;34m)\u001b[0m\u001b[0;34m\u001b[0m\u001b[0;34m\u001b[0m\u001b[0m\n\u001b[0m\u001b[1;32m    768\u001b[0m \u001b[0;34m\u001b[0m\u001b[0m\n\u001b[1;32m    769\u001b[0m     \u001b[0;34m@\u001b[0m\u001b[0msince\u001b[0m\u001b[0;34m(\u001b[0m\u001b[0;36m2.0\u001b[0m\u001b[0;34m)\u001b[0m\u001b[0;34m\u001b[0m\u001b[0;34m\u001b[0m\u001b[0m\n",
      "\u001b[0;32m/usr/local/spark/python/lib/py4j-0.10.7-src.zip/py4j/java_gateway.py\u001b[0m in \u001b[0;36m__call__\u001b[0;34m(self, *args)\u001b[0m\n\u001b[1;32m   1255\u001b[0m         \u001b[0manswer\u001b[0m \u001b[0;34m=\u001b[0m \u001b[0mself\u001b[0m\u001b[0;34m.\u001b[0m\u001b[0mgateway_client\u001b[0m\u001b[0;34m.\u001b[0m\u001b[0msend_command\u001b[0m\u001b[0;34m(\u001b[0m\u001b[0mcommand\u001b[0m\u001b[0;34m)\u001b[0m\u001b[0;34m\u001b[0m\u001b[0;34m\u001b[0m\u001b[0m\n\u001b[1;32m   1256\u001b[0m         return_value = get_return_value(\n\u001b[0;32m-> 1257\u001b[0;31m             answer, self.gateway_client, self.target_id, self.name)\n\u001b[0m\u001b[1;32m   1258\u001b[0m \u001b[0;34m\u001b[0m\u001b[0m\n\u001b[1;32m   1259\u001b[0m         \u001b[0;32mfor\u001b[0m \u001b[0mtemp_arg\u001b[0m \u001b[0;32min\u001b[0m \u001b[0mtemp_args\u001b[0m\u001b[0;34m:\u001b[0m\u001b[0;34m\u001b[0m\u001b[0;34m\u001b[0m\u001b[0m\n",
      "\u001b[0;32m/usr/local/spark/python/pyspark/sql/utils.py\u001b[0m in \u001b[0;36mdeco\u001b[0;34m(*a, **kw)\u001b[0m\n\u001b[1;32m     67\u001b[0m                                              e.java_exception.getStackTrace()))\n\u001b[1;32m     68\u001b[0m             \u001b[0;32mif\u001b[0m \u001b[0ms\u001b[0m\u001b[0;34m.\u001b[0m\u001b[0mstartswith\u001b[0m\u001b[0;34m(\u001b[0m\u001b[0;34m'org.apache.spark.sql.AnalysisException: '\u001b[0m\u001b[0;34m)\u001b[0m\u001b[0;34m:\u001b[0m\u001b[0;34m\u001b[0m\u001b[0;34m\u001b[0m\u001b[0m\n\u001b[0;32m---> 69\u001b[0;31m                 \u001b[0;32mraise\u001b[0m \u001b[0mAnalysisException\u001b[0m\u001b[0;34m(\u001b[0m\u001b[0ms\u001b[0m\u001b[0;34m.\u001b[0m\u001b[0msplit\u001b[0m\u001b[0;34m(\u001b[0m\u001b[0;34m': '\u001b[0m\u001b[0;34m,\u001b[0m \u001b[0;36m1\u001b[0m\u001b[0;34m)\u001b[0m\u001b[0;34m[\u001b[0m\u001b[0;36m1\u001b[0m\u001b[0;34m]\u001b[0m\u001b[0;34m,\u001b[0m \u001b[0mstackTrace\u001b[0m\u001b[0;34m)\u001b[0m\u001b[0;34m\u001b[0m\u001b[0;34m\u001b[0m\u001b[0m\n\u001b[0m\u001b[1;32m     70\u001b[0m             \u001b[0;32mif\u001b[0m \u001b[0ms\u001b[0m\u001b[0;34m.\u001b[0m\u001b[0mstartswith\u001b[0m\u001b[0;34m(\u001b[0m\u001b[0;34m'org.apache.spark.sql.catalyst.analysis'\u001b[0m\u001b[0;34m)\u001b[0m\u001b[0;34m:\u001b[0m\u001b[0;34m\u001b[0m\u001b[0;34m\u001b[0m\u001b[0m\n\u001b[1;32m     71\u001b[0m                 \u001b[0;32mraise\u001b[0m \u001b[0mAnalysisException\u001b[0m\u001b[0;34m(\u001b[0m\u001b[0ms\u001b[0m\u001b[0;34m.\u001b[0m\u001b[0msplit\u001b[0m\u001b[0;34m(\u001b[0m\u001b[0;34m': '\u001b[0m\u001b[0;34m,\u001b[0m \u001b[0;36m1\u001b[0m\u001b[0;34m)\u001b[0m\u001b[0;34m[\u001b[0m\u001b[0;36m1\u001b[0m\u001b[0;34m]\u001b[0m\u001b[0;34m,\u001b[0m \u001b[0mstackTrace\u001b[0m\u001b[0;34m)\u001b[0m\u001b[0;34m\u001b[0m\u001b[0;34m\u001b[0m\u001b[0m\n",
      "\u001b[0;31mAnalysisException\u001b[0m: \"grouping expressions sequence is empty, and 'hrtable.`jobrole`' is not an aggregate function. Wrap '(sum(CAST(CASE WHEN (hrtable.`attrition` = 'Yes') THEN 1 ELSE 0 END AS BIGINT)) AS `Attrition`)' in windowing function(s) or wrap 'hrtable.`jobrole`' in first() (or first_value) if you don't care which value you get.;;\\nAggregate [jobrole#2, sum(cast(CASE WHEN (attrition#3 = Yes) THEN 1 ELSE 0 END as bigint)) AS Attrition#2873L]\\n+- SubqueryAlias `hrtable`\\n   +- Relation[EmployeeID#0,Department#1,JobRole#2,Attrition#3,Gender#4,Age#5,MaritalStatus#6,Education#7,EducationField#8,BusinessTravel#9,JobInvolvement#10,JobLevel#11,JobSatisfaction#12,Hourlyrate#13,Income#14,Salaryhike#15,OverTime#16,Workex#17,YearsSinceLastPromotion#18,EmpSatisfaction#19,TrainingTimesLastYear#20,WorkLifeBalance#21,Performance_Rating#22] JDBCRelation(hremployee) [numPartitions=1]\\n\""
     ]
    }
   ],
   "source": [
    "spark.sql(\"\"\"\n",
    "    select count(jobrole)case\n",
    "    when attrition =='Yes' then 1\n",
    "    else 0\n",
    "    end as Attrition\n",
    "    from hrtable \n",
    "    \n",
    "    \"\"\").show()"
   ]
  },
  {
   "cell_type": "code",
   "execution_count": 140,
   "id": "3df0a1a5",
   "metadata": {},
   "outputs": [
    {
     "name": "stdout",
     "output_type": "stream",
     "text": [
      "+--------+--------------------+----+------------------+\n",
      "|count(1)|             jobrole|rate|        percentage|\n",
      "+--------+--------------------+----+------------------+\n",
      "|      82|Sales Representative|  33| 40.24390243902439|\n",
      "|     259|Laboratory Techni...|  62| 23.93822393822394|\n",
      "|      52|     Human Resources|  12|23.076923076923077|\n",
      "|     326|     Sales Executive|  57|17.484662576687118|\n",
      "|     292|  Research Scientist|  47|16.095890410958905|\n",
      "|     145|Manufacturing Dir...|  10| 6.896551724137931|\n",
      "|     131|Healthcare Repres...|   9| 6.870229007633588|\n",
      "|     102|             Manager|   5| 4.901960784313726|\n",
      "|      80|   Research Director|   2|               2.5|\n",
      "+--------+--------------------+----+------------------+\n",
      "\n"
     ]
    }
   ],
   "source": [
    "spark.sql(\"\"\" \n",
    "    select count(*),jobrole,\n",
    "    sum(case when attrition='Yes' then 1 else 0 end) as rate,\n",
    "    (sum(case when attrition='Yes' then 1 else 0 end)*100/count(*)) as percentage\n",
    "    from hrtable group by jobrole order by percentage desc\n",
    "    \n",
    "\"\"\").show()"
   ]
  },
  {
   "cell_type": "markdown",
   "id": "4eeaa824",
   "metadata": {},
   "source": [
    "## Hive Integration with pyspark"
   ]
  },
  {
   "cell_type": "code",
   "execution_count": 1,
   "id": "633eb913",
   "metadata": {},
   "outputs": [],
   "source": [
    "spark.stop()"
   ]
  },
  {
   "cell_type": "code",
   "execution_count": 2,
   "id": "322d12ef",
   "metadata": {},
   "outputs": [],
   "source": [
    "#Spark Integration with Hive with Spark Session\n",
    "spark = (SparkSession.builder.appName(\"pyspark-hive-integration\")\n",
    "        .config('spark.sql.warehouse.dir','/user/hive/warehouse/')\n",
    "         .enableHiveSupport().getOrCreate())"
   ]
  },
  {
   "cell_type": "code",
   "execution_count": 3,
   "id": "d3da349b",
   "metadata": {
    "scrolled": false
   },
   "outputs": [
    {
     "name": "stdout",
     "output_type": "stream",
     "text": [
      "+------------+\n",
      "|databaseName|\n",
      "+------------+\n",
      "|    airlines|\n",
      "|  banking_db|\n",
      "|     default|\n",
      "+------------+\n",
      "\n"
     ]
    }
   ],
   "source": [
    "spark.sql(\"show databases\").show()"
   ]
  },
  {
   "cell_type": "code",
   "execution_count": 4,
   "id": "a3fb926e",
   "metadata": {},
   "outputs": [
    {
     "name": "stdout",
     "output_type": "stream",
     "text": [
      "++\n",
      "||\n",
      "++\n",
      "++\n",
      "\n"
     ]
    }
   ],
   "source": [
    "spark.sql(\"create database if not exists airlines\").show()"
   ]
  },
  {
   "cell_type": "code",
   "execution_count": 17,
   "id": "bd2e4ea5",
   "metadata": {},
   "outputs": [
    {
     "data": {
      "text/plain": [
       "DataFrame[]"
      ]
     },
     "execution_count": 17,
     "metadata": {},
     "output_type": "execute_result"
    }
   ],
   "source": [
    "spark.sql(\"\"\"\n",
    "            create table if not exists airlines.flights(DayofMonth int,\n",
    "            DayOfWeek int, Carrier varchar(10),OriginAirportID int,\n",
    "            DestAirportID int,DepDelay int, ArrDelay int)\n",
    "            row format delimited\n",
    "            fields terminated by ','\n",
    "            lines terminated by '\\n'\n",
    "            STORED AS TEXTFILE \n",
    "            TBLPROPERTIES ('skip.header.line.count'='1')\n",
    "    \n",
    "            \"\"\")"
   ]
  },
  {
   "cell_type": "code",
   "execution_count": 4,
   "id": "bdca3c12",
   "metadata": {},
   "outputs": [
    {
     "data": {
      "text/plain": [
       "DataFrame[]"
      ]
     },
     "execution_count": 4,
     "metadata": {},
     "output_type": "execute_result"
    }
   ],
   "source": [
    "spark.sql(\"use airlines\")"
   ]
  },
  {
   "cell_type": "code",
   "execution_count": 19,
   "id": "4ae16229",
   "metadata": {},
   "outputs": [
    {
     "name": "stdout",
     "output_type": "stream",
     "text": [
      "+---------------+---------+-------+\n",
      "|       col_name|data_type|comment|\n",
      "+---------------+---------+-------+\n",
      "|     DayofMonth|      int|   null|\n",
      "|      DayOfWeek|      int|   null|\n",
      "|        Carrier|   string|   null|\n",
      "|OriginAirportID|      int|   null|\n",
      "|  DestAirportID|      int|   null|\n",
      "|       DepDelay|      int|   null|\n",
      "|       ArrDelay|      int|   null|\n",
      "+---------------+---------+-------+\n",
      "\n"
     ]
    }
   ],
   "source": [
    "spark.sql(\"describe flights\").show()"
   ]
  },
  {
   "cell_type": "code",
   "execution_count": 5,
   "id": "1aff0dcc",
   "metadata": {},
   "outputs": [
    {
     "data": {
      "text/plain": [
       "DataFrame[]"
      ]
     },
     "execution_count": 5,
     "metadata": {},
     "output_type": "execute_result"
    }
   ],
   "source": [
    "#overwrite into table flights\n",
    "spark.sql(\"\"\"\n",
    "          load data local inpath '/home/hadoop/Downloads/raw_flight_data1.csv'\n",
    "          overwrite into table flights\"\"\")"
   ]
  },
  {
   "cell_type": "code",
   "execution_count": 7,
   "id": "6984204b",
   "metadata": {},
   "outputs": [
    {
     "name": "stdout",
     "output_type": "stream",
     "text": [
      "+----------+---------+-------+---------------+-------------+--------+--------+\n",
      "|DayofMonth|DayOfWeek|Carrier|OriginAirportID|DestAirportID|DepDelay|ArrDelay|\n",
      "+----------+---------+-------+---------------+-------------+--------+--------+\n",
      "|        19|        5|     DL|          11433|        13303|      -3|       1|\n",
      "+----------+---------+-------+---------------+-------------+--------+--------+\n",
      "\n"
     ]
    }
   ],
   "source": [
    "spark.sql(\"select * from flights limit 1\").show()"
   ]
  },
  {
   "cell_type": "code",
   "execution_count": 8,
   "id": "8a7bfebe",
   "metadata": {},
   "outputs": [
    {
     "data": {
      "text/plain": [
       "DataFrame[]"
      ]
     },
     "execution_count": 8,
     "metadata": {},
     "output_type": "execute_result"
    }
   ],
   "source": [
    "# create table airport\n",
    "spark.sql(\"\"\"\n",
    "            create table if not exists airlines.airport(airport_id int,\n",
    "            city string, state varchar(10),airport_name string)\n",
    "            row format delimited\n",
    "            fields terminated by ','\n",
    "            lines terminated by '\\n'\n",
    "            STORED AS TEXTFILE \n",
    "            TBLPROPERTIES ('skip.header.line.count'='1')\n",
    "    \n",
    "            \"\"\")"
   ]
  },
  {
   "cell_type": "code",
   "execution_count": 9,
   "id": "8febd2fd",
   "metadata": {},
   "outputs": [
    {
     "data": {
      "text/plain": [
       "DataFrame[]"
      ]
     },
     "execution_count": 9,
     "metadata": {},
     "output_type": "execute_result"
    }
   ],
   "source": [
    "#overwrite into table airport\n",
    "spark.sql(\"\"\"\n",
    "          load data local inpath '/home/hadoop/Downloads/airports1.csv'\n",
    "          overwrite into table airport\"\"\")"
   ]
  },
  {
   "cell_type": "code",
   "execution_count": 11,
   "id": "e4ecd3c0",
   "metadata": {},
   "outputs": [
    {
     "name": "stdout",
     "output_type": "stream",
     "text": [
      "+----------+-----------+-----+------------+\n",
      "|airport_id|       city|state|airport_name|\n",
      "+----------+-----------+-----+------------+\n",
      "|     10165|Adak Island|   AK|        Adak|\n",
      "+----------+-----------+-----+------------+\n",
      "\n"
     ]
    }
   ],
   "source": [
    "spark.sql(\"select * from airport limit 1\").show()"
   ]
  },
  {
   "cell_type": "code",
   "execution_count": 13,
   "id": "92e7e044",
   "metadata": {},
   "outputs": [],
   "source": [
    "flight_df = spark.table(\"flights\")\n",
    "airport_df = spark.table(\"airport\")"
   ]
  },
  {
   "cell_type": "markdown",
   "id": "56ec2acd",
   "metadata": {},
   "source": [
    "#### Transformation"
   ]
  },
  {
   "cell_type": "code",
   "execution_count": 14,
   "id": "723dbad4",
   "metadata": {},
   "outputs": [],
   "source": [
    "combined_df = flight_df.join(airport_df, on = airport_df.airport_id == flight_df.OriginAirportID, how=\"inner\")"
   ]
  },
  {
   "cell_type": "code",
   "execution_count": 15,
   "id": "e19183c9",
   "metadata": {},
   "outputs": [
    {
     "name": "stdout",
     "output_type": "stream",
     "text": [
      "+----------+---------+-------+---------------+-------------+--------+--------+----------+--------------+-----+--------------------+\n",
      "|DayofMonth|DayOfWeek|Carrier|OriginAirportID|DestAirportID|DepDelay|ArrDelay|airport_id|          city|state|        airport_name|\n",
      "+----------+---------+-------+---------------+-------------+--------+--------+----------+--------------+-----+--------------------+\n",
      "|        19|        5|     DL|          11433|        13303|      -3|       1|     11433|       Detroit|   MI|Detroit Metro Way...|\n",
      "|        19|        5|     DL|          14869|        12478|       0|      -8|     14869|Salt Lake City|   UT|Salt Lake City In...|\n",
      "+----------+---------+-------+---------------+-------------+--------+--------+----------+--------------+-----+--------------------+\n",
      "only showing top 2 rows\n",
      "\n"
     ]
    }
   ],
   "source": [
    "combined_df.show(2)"
   ]
  },
  {
   "cell_type": "code",
   "execution_count": 16,
   "id": "61bf1279",
   "metadata": {},
   "outputs": [],
   "source": [
    "combined_left_df = flight_df.join(airport_df, on = airport_df.airport_id == flight_df.OriginAirportID, how=\"left\")"
   ]
  },
  {
   "cell_type": "code",
   "execution_count": 17,
   "id": "e36fa729",
   "metadata": {},
   "outputs": [
    {
     "name": "stdout",
     "output_type": "stream",
     "text": [
      "+----------+---------+-------+---------------+-------------+--------+--------+----------+--------------+-----+--------------------+\n",
      "|DayofMonth|DayOfWeek|Carrier|OriginAirportID|DestAirportID|DepDelay|ArrDelay|airport_id|          city|state|        airport_name|\n",
      "+----------+---------+-------+---------------+-------------+--------+--------+----------+--------------+-----+--------------------+\n",
      "|        19|        5|     DL|          11433|        13303|      -3|       1|     11433|       Detroit|   MI|Detroit Metro Way...|\n",
      "|        19|        5|     DL|          14869|        12478|       0|      -8|     14869|Salt Lake City|   UT|Salt Lake City In...|\n",
      "+----------+---------+-------+---------------+-------------+--------+--------+----------+--------------+-----+--------------------+\n",
      "only showing top 2 rows\n",
      "\n"
     ]
    }
   ],
   "source": [
    "combined_left_df.show(2)"
   ]
  },
  {
   "cell_type": "code",
   "execution_count": 19,
   "id": "c599eaee",
   "metadata": {},
   "outputs": [],
   "source": [
    "combined_right_df = flight_df.join(airport_df, on = airport_df.airport_id == flight_df.OriginAirportID, how=\"right\")"
   ]
  },
  {
   "cell_type": "code",
   "execution_count": 20,
   "id": "4885da32",
   "metadata": {},
   "outputs": [
    {
     "name": "stdout",
     "output_type": "stream",
     "text": [
      "+----------+---------+-------+---------------+-------------+--------+--------+----------+----+-----+--------------------+\n",
      "|DayofMonth|DayOfWeek|Carrier|OriginAirportID|DestAirportID|DepDelay|ArrDelay|airport_id|city|state|        airport_name|\n",
      "+----------+---------+-------+---------------+-------------+--------+--------+----------+----+-----+--------------------+\n",
      "|        19|        5|     DL|          14570|        14869|      -5|      -8|     14570|Reno|   NV|Reno/Tahoe Intern...|\n",
      "|        19|        5|     DL|          14570|        14869|      -4|       2|     14570|Reno|   NV|Reno/Tahoe Intern...|\n",
      "+----------+---------+-------+---------------+-------------+--------+--------+----------+----+-----+--------------------+\n",
      "only showing top 2 rows\n",
      "\n"
     ]
    }
   ],
   "source": [
    "combined_right_df.show(2)"
   ]
  },
  {
   "cell_type": "code",
   "execution_count": 21,
   "id": "e8b337cc",
   "metadata": {},
   "outputs": [],
   "source": [
    "#A-B\n",
    "combined_leftanti_df = flight_df.join(airport_df, on = airport_df.airport_id == flight_df.OriginAirportID, how=\"leftanti\")"
   ]
  },
  {
   "cell_type": "code",
   "execution_count": 22,
   "id": "5c362b53",
   "metadata": {},
   "outputs": [
    {
     "name": "stdout",
     "output_type": "stream",
     "text": [
      "+----------+---------+-------+---------------+-------------+--------+--------+\n",
      "|DayofMonth|DayOfWeek|Carrier|OriginAirportID|DestAirportID|DepDelay|ArrDelay|\n",
      "+----------+---------+-------+---------------+-------------+--------+--------+\n",
      "+----------+---------+-------+---------------+-------------+--------+--------+\n",
      "\n"
     ]
    }
   ],
   "source": [
    "combined_leftanti_df.show()"
   ]
  },
  {
   "cell_type": "code",
   "execution_count": 23,
   "id": "db5b3b38",
   "metadata": {},
   "outputs": [],
   "source": [
    "#only print left table which is common in right side\n",
    "combined_leftsemi_df = flight_df.join(airport_df, on = airport_df.airport_id == flight_df.OriginAirportID, how=\"leftsemi\")"
   ]
  },
  {
   "cell_type": "code",
   "execution_count": 24,
   "id": "f003a4ca",
   "metadata": {},
   "outputs": [
    {
     "name": "stdout",
     "output_type": "stream",
     "text": [
      "+----------+---------+-------+---------------+-------------+--------+--------+\n",
      "|DayofMonth|DayOfWeek|Carrier|OriginAirportID|DestAirportID|DepDelay|ArrDelay|\n",
      "+----------+---------+-------+---------------+-------------+--------+--------+\n",
      "|        19|        5|     DL|          11433|        13303|      -3|       1|\n",
      "|        19|        5|     DL|          14869|        12478|       0|      -8|\n",
      "|        19|        5|     DL|          14057|        14869|      -4|     -15|\n",
      "|        19|        5|     DL|          15016|        11433|      28|      24|\n",
      "|        19|        5|     DL|          11193|        12892|      -6|     -11|\n",
      "|        19|        5|     DL|          10397|        15016|      -1|     -19|\n",
      "|        19|        5|     DL|          15016|        10397|       0|      -1|\n",
      "|        19|        5|     DL|          10397|        14869|      15|      24|\n",
      "|        19|        5|     DL|          10397|        10423|      33|      34|\n",
      "|        19|        5|     DL|          11278|        10397|     323|     322|\n",
      "|        19|        5|     DL|          14107|        13487|      -7|     -13|\n",
      "|        19|        5|     DL|          11433|        11298|      22|      41|\n",
      "|        19|        5|     DL|          11298|        11433|      40|      20|\n",
      "|        19|        5|     DL|          11433|        12892|      -2|      -7|\n",
      "|        19|        5|     DL|          10397|        12451|      71|      75|\n",
      "|        19|        5|     DL|          12451|        10397|      75|      57|\n",
      "|        19|        5|     DL|          12953|        10397|      -1|      10|\n",
      "|        19|        5|     DL|          11433|        12953|      -3|     -10|\n",
      "|        19|        5|     DL|          10397|        14771|      31|      38|\n",
      "|        19|        5|     DL|          13204|        10397|       8|      25|\n",
      "+----------+---------+-------+---------------+-------------+--------+--------+\n",
      "only showing top 20 rows\n",
      "\n"
     ]
    }
   ],
   "source": [
    "combined_leftsemi_df.show()"
   ]
  },
  {
   "cell_type": "code",
   "execution_count": null,
   "id": "095efa6a",
   "metadata": {},
   "outputs": [],
   "source": [
    "combined_df.repartition()"
   ]
  },
  {
   "cell_type": "code",
   "execution_count": 26,
   "id": "f5e587d0",
   "metadata": {},
   "outputs": [],
   "source": [
    "combined_df.write.partitionBy('Carrier').parquet(\"/airlines\")"
   ]
  },
  {
   "cell_type": "code",
   "execution_count": 33,
   "id": "135c4677",
   "metadata": {},
   "outputs": [],
   "source": [
    "airline_join = spark.read.parquet('/airlines')"
   ]
  },
  {
   "cell_type": "code",
   "execution_count": 34,
   "id": "6593efa8",
   "metadata": {},
   "outputs": [],
   "source": [
    "airline_join.createOrReplaceTempView(\"airline\")"
   ]
  },
  {
   "cell_type": "code",
   "execution_count": 37,
   "id": "eef8eb8b",
   "metadata": {},
   "outputs": [
    {
     "name": "stdout",
     "output_type": "stream",
     "text": [
      "+------------------+\n",
      "|     avg(ArrDelay)|\n",
      "+------------------+\n",
      "|11.651327332054372|\n",
      "+------------------+\n",
      "\n"
     ]
    }
   ],
   "source": [
    "spark.sql(\"select avg(ArrDelay) from airline where Carrier='AA' \").show()"
   ]
  },
  {
   "cell_type": "code",
   "execution_count": 38,
   "id": "dcc4ef10",
   "metadata": {},
   "outputs": [
    {
     "name": "stdout",
     "output_type": "stream",
     "text": [
      "+---------------+---------+-------+\n",
      "|       col_name|data_type|comment|\n",
      "+---------------+---------+-------+\n",
      "|     DayofMonth|      int|   null|\n",
      "|      DayOfWeek|      int|   null|\n",
      "|OriginAirportID|      int|   null|\n",
      "|  DestAirportID|      int|   null|\n",
      "|       DepDelay|      int|   null|\n",
      "|       ArrDelay|      int|   null|\n",
      "|     airport_id|      int|   null|\n",
      "|           city|   string|   null|\n",
      "|          state|   string|   null|\n",
      "|   airport_name|   string|   null|\n",
      "|        Carrier|   string|   null|\n",
      "+---------------+---------+-------+\n",
      "\n"
     ]
    }
   ],
   "source": [
    "spark.sql(\"describe airline\").show()"
   ]
  },
  {
   "cell_type": "code",
   "execution_count": 39,
   "id": "a194440d",
   "metadata": {},
   "outputs": [
    {
     "data": {
      "text/plain": [
       "['DayofMonth',\n",
       " 'DayOfWeek',\n",
       " 'Carrier',\n",
       " 'OriginAirportID',\n",
       " 'DestAirportID',\n",
       " 'DepDelay',\n",
       " 'ArrDelay',\n",
       " 'airport_id',\n",
       " 'city',\n",
       " 'state',\n",
       " 'airport_name']"
      ]
     },
     "execution_count": 39,
     "metadata": {},
     "output_type": "execute_result"
    }
   ],
   "source": [
    "combined_df.columns"
   ]
  },
  {
   "cell_type": "markdown",
   "id": "6e19b9be",
   "metadata": {},
   "source": [
    "## Hbase Integration with Pyspark"
   ]
  },
  {
   "cell_type": "code",
   "execution_count": 2,
   "id": "36108d8d",
   "metadata": {},
   "outputs": [],
   "source": [
    "spark.stop()"
   ]
  },
  {
   "cell_type": "code",
   "execution_count": 6,
   "id": "190440f0",
   "metadata": {},
   "outputs": [],
   "source": [
    "from pyspark.sql import SparkSession\n",
    "spark = SparkSession.builder.appName(\"HbaseIntegration\").getOrCreate()"
   ]
  },
  {
   "cell_type": "code",
   "execution_count": 7,
   "id": "ea9ba4a6",
   "metadata": {},
   "outputs": [],
   "source": [
    "hbase_conf = {\n",
    "    \"hbase.zookeeper.quorum\":'localhost',\n",
    "    \"hbase.mapreduce.inputtable\":'hcustomer',\n",
    "    \"hbase.client.scanner.timeout.period\":\"600000\"\n",
    "}"
   ]
  },
  {
   "cell_type": "code",
   "execution_count": null,
   "id": "ddb382cc",
   "metadata": {},
   "outputs": [],
   "source": [
    "spark.read.format(\"org.apache.hadoop.hbase.spark\").options(**hbase_conf).load()"
   ]
  },
  {
   "cell_type": "markdown",
   "id": "7d5cdedb",
   "metadata": {},
   "source": [
    "## Load on MySQL"
   ]
  },
  {
   "cell_type": "code",
   "execution_count": 40,
   "id": "2c68fd6c",
   "metadata": {},
   "outputs": [],
   "source": [
    "# fetch the combined_df data into mysql \n",
    "connection_properties = {\n",
    "    \"user\":\"root\",\n",
    "    \"password\":\"hadoop@123\",\n",
    "    \"driver\":\"com.mysql.cj.jdbc.Driver\"\n",
    "}\n",
    "combined_df.write.jdbc(url=\"jdbc:mysql://localhost:3306/airlines\",table=\"airline\",\n",
    "                mode = \"overwrite\",properties = connection_properties)"
   ]
  },
  {
   "cell_type": "code",
   "execution_count": null,
   "id": "ea036e04",
   "metadata": {},
   "outputs": [],
   "source": []
  }
 ],
 "metadata": {
  "kernelspec": {
   "display_name": "Python 3",
   "language": "python",
   "name": "python3"
  },
  "language_info": {
   "codemirror_mode": {
    "name": "ipython",
    "version": 3
   },
   "file_extension": ".py",
   "mimetype": "text/x-python",
   "name": "python",
   "nbconvert_exporter": "python",
   "pygments_lexer": "ipython3",
   "version": "3.6.9"
  }
 },
 "nbformat": 4,
 "nbformat_minor": 5
}
