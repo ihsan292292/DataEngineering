{
 "cells": [
  {
   "cell_type": "code",
   "execution_count": 1,
   "id": "b04e5bf5",
   "metadata": {},
   "outputs": [
    {
     "data": {
      "text/html": [
       "\n",
       "        <div>\n",
       "            <p><b>SparkContext</b></p>\n",
       "\n",
       "            <p><a href=\"http://10.0.2.15:4045\">Spark UI</a></p>\n",
       "\n",
       "            <dl>\n",
       "              <dt>Version</dt>\n",
       "                <dd><code>v2.4.8</code></dd>\n",
       "              <dt>Master</dt>\n",
       "                <dd><code>local[*]</code></dd>\n",
       "              <dt>AppName</dt>\n",
       "                <dd><code>PySparkShell</code></dd>\n",
       "            </dl>\n",
       "        </div>\n",
       "        "
      ],
      "text/plain": [
       "<SparkContext master=local[*] appName=PySparkShell>"
      ]
     },
     "execution_count": 1,
     "metadata": {},
     "output_type": "execute_result"
    }
   ],
   "source": [
    "sc"
   ]
  },
  {
   "cell_type": "code",
   "execution_count": 2,
   "id": "025433be",
   "metadata": {},
   "outputs": [
    {
     "data": {
      "text/html": [
       "\n",
       "            <div>\n",
       "                <p><b>SparkSession - hive</b></p>\n",
       "                \n",
       "        <div>\n",
       "            <p><b>SparkContext</b></p>\n",
       "\n",
       "            <p><a href=\"http://10.0.2.15:4045\">Spark UI</a></p>\n",
       "\n",
       "            <dl>\n",
       "              <dt>Version</dt>\n",
       "                <dd><code>v2.4.8</code></dd>\n",
       "              <dt>Master</dt>\n",
       "                <dd><code>local[*]</code></dd>\n",
       "              <dt>AppName</dt>\n",
       "                <dd><code>PySparkShell</code></dd>\n",
       "            </dl>\n",
       "        </div>\n",
       "        \n",
       "            </div>\n",
       "        "
      ],
      "text/plain": [
       "<pyspark.sql.session.SparkSession at 0x7f75a2a53438>"
      ]
     },
     "execution_count": 2,
     "metadata": {},
     "output_type": "execute_result"
    }
   ],
   "source": [
    "spark"
   ]
  },
  {
   "cell_type": "code",
   "execution_count": 3,
   "id": "b20af0ad",
   "metadata": {},
   "outputs": [],
   "source": [
    "teleCus_df = spark.read.csv(\"file:///home/hadoop/Downloads/Telco_Customer_Churn.csv\", inferSchema=True, header=True)"
   ]
  },
  {
   "cell_type": "markdown",
   "id": "064d7382",
   "metadata": {},
   "source": [
    "## 1. Data Exploration"
   ]
  },
  {
   "cell_type": "code",
   "execution_count": 4,
   "id": "6a322385",
   "metadata": {},
   "outputs": [
    {
     "name": "stdout",
     "output_type": "stream",
     "text": [
      "root\n",
      " |-- customerID: string (nullable = true)\n",
      " |-- gender: string (nullable = true)\n",
      " |-- SeniorCitizen: integer (nullable = true)\n",
      " |-- Partner: string (nullable = true)\n",
      " |-- Dependents: string (nullable = true)\n",
      " |-- tenure: integer (nullable = true)\n",
      " |-- PhoneService: string (nullable = true)\n",
      " |-- MultipleLines: string (nullable = true)\n",
      " |-- InternetService: string (nullable = true)\n",
      " |-- OnlineSecurity: string (nullable = true)\n",
      " |-- OnlineBackup: string (nullable = true)\n",
      " |-- DeviceProtection: string (nullable = true)\n",
      " |-- TechSupport: string (nullable = true)\n",
      " |-- StreamingTV: string (nullable = true)\n",
      " |-- StreamingMovies: string (nullable = true)\n",
      " |-- Contract: string (nullable = true)\n",
      " |-- PaperlessBilling: string (nullable = true)\n",
      " |-- PaymentMethod: string (nullable = true)\n",
      " |-- MonthlyCharges: double (nullable = true)\n",
      " |-- TotalCharges: string (nullable = true)\n",
      " |-- Churn: string (nullable = true)\n",
      "\n"
     ]
    }
   ],
   "source": [
    "teleCus_df.printSchema()"
   ]
  },
  {
   "cell_type": "code",
   "execution_count": 5,
   "id": "2b974d43",
   "metadata": {},
   "outputs": [
    {
     "data": {
      "text/plain": [
       "7043"
      ]
     },
     "execution_count": 5,
     "metadata": {},
     "output_type": "execute_result"
    }
   ],
   "source": [
    "# How many records are there in the dataset?\n",
    "teleCus_df.select(\"customerID\").count()"
   ]
  },
  {
   "cell_type": "code",
   "execution_count": 6,
   "id": "27dc3541",
   "metadata": {},
   "outputs": [
    {
     "name": "stdout",
     "output_type": "stream",
     "text": [
      "+------+\n",
      "|gender|\n",
      "+------+\n",
      "|Female|\n",
      "|  Male|\n",
      "+------+\n",
      "\n",
      "+------+\n",
      "|gender|\n",
      "+------+\n",
      "|Female|\n",
      "|  Male|\n",
      "+------+\n",
      "\n"
     ]
    }
   ],
   "source": [
    "# What is the distribution of gender among customers?\n",
    "teleCus_df.select(\"gender\").distinct().show()\n",
    "teleCus_df.createOrReplaceTempView('telecus')\n",
    "\n",
    "teleCus_df.select(\"gender\").distinct().show()"
   ]
  },
  {
   "cell_type": "code",
   "execution_count": 7,
   "id": "451cabc4",
   "metadata": {},
   "outputs": [
    {
     "name": "stdout",
     "output_type": "stream",
     "text": [
      "+----------+------+-------------+-------+----------+------+------------+----------------+---------------+-------------------+-------------------+-------------------+-------------------+-------------------+-------------------+--------------+----------------+--------------------+--------------+------------+-----+\n",
      "|customerID|gender|SeniorCitizen|Partner|Dependents|tenure|PhoneService|   MultipleLines|InternetService|     OnlineSecurity|       OnlineBackup|   DeviceProtection|        TechSupport|        StreamingTV|    StreamingMovies|      Contract|PaperlessBilling|       PaymentMethod|MonthlyCharges|TotalCharges|Churn|\n",
      "+----------+------+-------------+-------+----------+------+------------+----------------+---------------+-------------------+-------------------+-------------------+-------------------+-------------------+-------------------+--------------+----------------+--------------------+--------------+------------+-----+\n",
      "|7590-VHVEG|Female|            0|    Yes|        No|     1|          No|No phone service|            DSL|                 No|                Yes|                 No|                 No|                 No|                 No|Month-to-month|             Yes|    Electronic check|         29.85|       29.85|   No|\n",
      "|5575-GNVDE|  Male|            0|     No|        No|    34|         Yes|              No|            DSL|                Yes|                 No|                Yes|                 No|                 No|                 No|      One year|              No|        Mailed check|         56.95|      1889.5|   No|\n",
      "|3668-QPYBK|  Male|            0|     No|        No|     2|         Yes|              No|            DSL|                Yes|                Yes|                 No|                 No|                 No|                 No|Month-to-month|             Yes|        Mailed check|         53.85|      108.15|  Yes|\n",
      "|7795-CFOCW|  Male|            0|     No|        No|    45|          No|No phone service|            DSL|                Yes|                 No|                Yes|                Yes|                 No|                 No|      One year|              No|Bank transfer (au...|          42.3|     1840.75|   No|\n",
      "|9237-HQITU|Female|            0|     No|        No|     2|         Yes|              No|    Fiber optic|                 No|                 No|                 No|                 No|                 No|                 No|Month-to-month|             Yes|    Electronic check|          70.7|      151.65|  Yes|\n",
      "|9305-CDSKC|Female|            0|     No|        No|     8|         Yes|             Yes|    Fiber optic|                 No|                 No|                Yes|                 No|                Yes|                Yes|Month-to-month|             Yes|    Electronic check|         99.65|       820.5|  Yes|\n",
      "|1452-KIOVK|  Male|            0|     No|       Yes|    22|         Yes|             Yes|    Fiber optic|                 No|                Yes|                 No|                 No|                Yes|                 No|Month-to-month|             Yes|Credit card (auto...|          89.1|      1949.4|   No|\n",
      "|6713-OKOMC|Female|            0|     No|        No|    10|          No|No phone service|            DSL|                Yes|                 No|                 No|                 No|                 No|                 No|Month-to-month|              No|        Mailed check|         29.75|       301.9|   No|\n",
      "|7892-POOKP|Female|            0|    Yes|        No|    28|         Yes|             Yes|    Fiber optic|                 No|                 No|                Yes|                Yes|                Yes|                Yes|Month-to-month|             Yes|    Electronic check|         104.8|     3046.05|  Yes|\n",
      "|6388-TABGU|  Male|            0|     No|       Yes|    62|         Yes|              No|            DSL|                Yes|                Yes|                 No|                 No|                 No|                 No|      One year|              No|Bank transfer (au...|         56.15|     3487.95|   No|\n",
      "|9763-GRSKD|  Male|            0|    Yes|       Yes|    13|         Yes|              No|            DSL|                Yes|                 No|                 No|                 No|                 No|                 No|Month-to-month|             Yes|        Mailed check|         49.95|      587.45|   No|\n",
      "|7469-LKBCI|  Male|            0|     No|        No|    16|         Yes|              No|             No|No internet service|No internet service|No internet service|No internet service|No internet service|No internet service|      Two year|              No|Credit card (auto...|         18.95|       326.8|   No|\n",
      "|8091-TTVAX|  Male|            0|    Yes|        No|    58|         Yes|             Yes|    Fiber optic|                 No|                 No|                Yes|                 No|                Yes|                Yes|      One year|              No|Credit card (auto...|        100.35|      5681.1|   No|\n",
      "|0280-XJGEX|  Male|            0|     No|        No|    49|         Yes|             Yes|    Fiber optic|                 No|                Yes|                Yes|                 No|                Yes|                Yes|Month-to-month|             Yes|Bank transfer (au...|         103.7|      5036.3|  Yes|\n",
      "|5129-JLPIS|  Male|            0|     No|        No|    25|         Yes|              No|    Fiber optic|                Yes|                 No|                Yes|                Yes|                Yes|                Yes|Month-to-month|             Yes|    Electronic check|         105.5|     2686.05|   No|\n",
      "|3655-SNQYZ|Female|            0|    Yes|       Yes|    69|         Yes|             Yes|    Fiber optic|                Yes|                Yes|                Yes|                Yes|                Yes|                Yes|      Two year|              No|Credit card (auto...|        113.25|     7895.15|   No|\n",
      "|8191-XWSZG|Female|            0|     No|        No|    52|         Yes|              No|             No|No internet service|No internet service|No internet service|No internet service|No internet service|No internet service|      One year|              No|        Mailed check|         20.65|     1022.95|   No|\n",
      "|9959-WOFKT|  Male|            0|     No|       Yes|    71|         Yes|             Yes|    Fiber optic|                Yes|                 No|                Yes|                 No|                Yes|                Yes|      Two year|              No|Bank transfer (au...|         106.7|     7382.25|   No|\n",
      "|4190-MFLUW|Female|            0|    Yes|       Yes|    10|         Yes|              No|            DSL|                 No|                 No|                Yes|                Yes|                 No|                 No|Month-to-month|              No|Credit card (auto...|          55.2|      528.35|  Yes|\n",
      "|4183-MYFRB|Female|            0|     No|        No|    21|         Yes|              No|    Fiber optic|                 No|                Yes|                Yes|                 No|                 No|                Yes|Month-to-month|             Yes|    Electronic check|         90.05|      1862.9|   No|\n",
      "+----------+------+-------------+-------+----------+------+------------+----------------+---------------+-------------------+-------------------+-------------------+-------------------+-------------------+-------------------+--------------+----------------+--------------------+--------------+------------+-----+\n",
      "only showing top 20 rows\n",
      "\n"
     ]
    }
   ],
   "source": [
    "teleCus_df.show()"
   ]
  },
  {
   "cell_type": "markdown",
   "id": "cfbbf521",
   "metadata": {},
   "source": [
    "### "
   ]
  },
  {
   "cell_type": "code",
   "execution_count": 8,
   "id": "50fa47a5",
   "metadata": {},
   "outputs": [
    {
     "name": "stdout",
     "output_type": "stream",
     "text": [
      "root\n",
      " |-- customerID: string (nullable = true)\n",
      " |-- gender: string (nullable = true)\n",
      " |-- SeniorCitizen: integer (nullable = true)\n",
      " |-- Partner: string (nullable = true)\n",
      " |-- Dependents: string (nullable = true)\n",
      " |-- tenure: integer (nullable = true)\n",
      " |-- PhoneService: string (nullable = true)\n",
      " |-- MultipleLines: string (nullable = true)\n",
      " |-- InternetService: string (nullable = true)\n",
      " |-- OnlineSecurity: string (nullable = true)\n",
      " |-- OnlineBackup: string (nullable = true)\n",
      " |-- DeviceProtection: string (nullable = true)\n",
      " |-- TechSupport: string (nullable = true)\n",
      " |-- StreamingTV: string (nullable = true)\n",
      " |-- StreamingMovies: string (nullable = true)\n",
      " |-- Contract: string (nullable = true)\n",
      " |-- PaperlessBilling: string (nullable = true)\n",
      " |-- PaymentMethod: string (nullable = true)\n",
      " |-- MonthlyCharges: double (nullable = true)\n",
      " |-- TotalCharges: string (nullable = true)\n",
      " |-- Churn: string (nullable = true)\n",
      "\n"
     ]
    }
   ],
   "source": [
    "teleCus_df.printSchema()"
   ]
  },
  {
   "cell_type": "code",
   "execution_count": 9,
   "id": "0edcd3ef",
   "metadata": {},
   "outputs": [],
   "source": [
    "from pyspark.sql.functions import *"
   ]
  },
  {
   "cell_type": "code",
   "execution_count": 10,
   "id": "1f42bd5a",
   "metadata": {},
   "outputs": [
    {
     "data": {
      "text/plain": [
       "DataFrame[customerID: string, gender: string, SeniorCitizen: int, Partner: string, Dependents: string, tenure: int, PhoneService: string, MultipleLines: string, InternetService: string, OnlineSecurity: string, OnlineBackup: string, DeviceProtection: string, TechSupport: string, StreamingTV: string, StreamingMovies: string, Contract: string, PaperlessBilling: string, PaymentMethod: string, MonthlyCharges: double, TotalCharges: string, Churn: string]"
      ]
     },
     "execution_count": 10,
     "metadata": {},
     "output_type": "execute_result"
    }
   ],
   "source": [
    "teleCus_df.withColumn('TotalCharges',when(col('TotalCharges')==\" \",None).otherwise(col('TotalCharges')))"
   ]
  },
  {
   "cell_type": "code",
   "execution_count": 11,
   "id": "935bd29e",
   "metadata": {},
   "outputs": [],
   "source": [
    "teleCus_df1 = teleCus_df.na.drop()"
   ]
  },
  {
   "cell_type": "code",
   "execution_count": 12,
   "id": "0b515bde",
   "metadata": {},
   "outputs": [],
   "source": [
    "from pyspark.sql.types import FloatType\n",
    "teleCus_df2 = teleCus_df1.withColumn('TotalCharges',col('TotalCharges').cast(FloatType()))"
   ]
  },
  {
   "cell_type": "code",
   "execution_count": 13,
   "id": "5ed7a7fb",
   "metadata": {},
   "outputs": [
    {
     "name": "stdout",
     "output_type": "stream",
     "text": [
      "root\n",
      " |-- customerID: string (nullable = true)\n",
      " |-- gender: string (nullable = true)\n",
      " |-- SeniorCitizen: integer (nullable = true)\n",
      " |-- Partner: string (nullable = true)\n",
      " |-- Dependents: string (nullable = true)\n",
      " |-- tenure: integer (nullable = true)\n",
      " |-- PhoneService: string (nullable = true)\n",
      " |-- MultipleLines: string (nullable = true)\n",
      " |-- InternetService: string (nullable = true)\n",
      " |-- OnlineSecurity: string (nullable = true)\n",
      " |-- OnlineBackup: string (nullable = true)\n",
      " |-- DeviceProtection: string (nullable = true)\n",
      " |-- TechSupport: string (nullable = true)\n",
      " |-- StreamingTV: string (nullable = true)\n",
      " |-- StreamingMovies: string (nullable = true)\n",
      " |-- Contract: string (nullable = true)\n",
      " |-- PaperlessBilling: string (nullable = true)\n",
      " |-- PaymentMethod: string (nullable = true)\n",
      " |-- MonthlyCharges: double (nullable = true)\n",
      " |-- TotalCharges: float (nullable = true)\n",
      " |-- Churn: string (nullable = true)\n",
      "\n"
     ]
    }
   ],
   "source": [
    "teleCus_df2.printSchema()"
   ]
  },
  {
   "cell_type": "code",
   "execution_count": 14,
   "id": "a82f9f69",
   "metadata": {},
   "outputs": [],
   "source": [
    "from pyspark.ml.feature import StringIndexer,OneHotEncoderEstimator, VectorAssembler\n",
    "from pyspark.ml import Pipeline"
   ]
  },
  {
   "cell_type": "code",
   "execution_count": 15,
   "id": "498c34ec",
   "metadata": {},
   "outputs": [
    {
     "name": "stdout",
     "output_type": "stream",
     "text": [
      "['customerID', 'gender', 'SeniorCitizen', 'Partner', 'Dependents', 'tenure', 'PhoneService', 'MultipleLines', 'InternetService', 'OnlineSecurity', 'OnlineBackup', 'DeviceProtection', 'TechSupport', 'StreamingTV', 'StreamingMovies', 'Contract', 'PaperlessBilling', 'PaymentMethod', 'MonthlyCharges', 'TotalCharges', 'Churn']\n"
     ]
    }
   ],
   "source": [
    "print(teleCus_df.columns)"
   ]
  },
  {
   "cell_type": "code",
   "execution_count": 16,
   "id": "9c299b2e",
   "metadata": {},
   "outputs": [],
   "source": [
    "categorical_cols = ['gender', 'SeniorCitizen', 'Partner', 'Dependents', 'PhoneService', 'MultipleLines', 'InternetService', 'OnlineSecurity', 'OnlineBackup', 'DeviceProtection', 'TechSupport', 'StreamingTV', 'StreamingMovies', 'Contract', 'PaperlessBilling', 'PaymentMethod']\n",
    "\n",
    "stages1 = []\n",
    "for catcols in categorical_cols:\n",
    "    stringIndexer = StringIndexer(inputCol=catcols,outputCol=catcols+\"Index\")\n",
    "    oneHotEncoder = OneHotEncoderEstimator(inputCols=[stringIndexer.getOutputCol()],\n",
    "                                          outputCols=[catcols+\"classVec\"])\n",
    "    \n",
    "    stages1+= [stringIndexer,oneHotEncoder]"
   ]
  },
  {
   "cell_type": "code",
   "execution_count": 18,
   "id": "79401104",
   "metadata": {},
   "outputs": [
    {
     "name": "stdout",
     "output_type": "stream",
     "text": [
      "+----------+------+-------------+-------+----------+------+------------+-------------+---------------+--------------+------------+----------------+-----------+-----------+---------------+--------+----------------+-------------+--------------+------------+-----+\n",
      "|customerID|gender|SeniorCitizen|Partner|Dependents|tenure|PhoneService|MultipleLines|InternetService|OnlineSecurity|OnlineBackup|DeviceProtection|TechSupport|StreamingTV|StreamingMovies|Contract|PaperlessBilling|PaymentMethod|MonthlyCharges|TotalCharges|Churn|\n",
      "+----------+------+-------------+-------+----------+------+------------+-------------+---------------+--------------+------------+----------------+-----------+-----------+---------------+--------+----------------+-------------+--------------+------------+-----+\n",
      "|         0|     0|            0|      0|         0|     0|           0|            0|              0|             0|           0|               0|          0|          0|              0|       0|               0|            0|             0|          11|    0|\n",
      "+----------+------+-------------+-------+----------+------+------------+-------------+---------------+--------------+------------+----------------+-----------+-----------+---------------+--------+----------------+-------------+--------------+------------+-----+\n",
      "\n"
     ]
    }
   ],
   "source": [
    "teleCus_df2.select([count(when(isnull(col),col)).alias(col) for col in teleCus_df2.columns]).show()"
   ]
  },
  {
   "cell_type": "code",
   "execution_count": 19,
   "id": "35281c5c",
   "metadata": {},
   "outputs": [],
   "source": [
    "teleCus_df2 = teleCus_df2.na.drop()"
   ]
  },
  {
   "cell_type": "code",
   "execution_count": 20,
   "id": "3da19f6c",
   "metadata": {},
   "outputs": [
    {
     "name": "stdout",
     "output_type": "stream",
     "text": [
      "root\n",
      " |-- customerID: string (nullable = true)\n",
      " |-- gender: string (nullable = true)\n",
      " |-- SeniorCitizen: integer (nullable = true)\n",
      " |-- Partner: string (nullable = true)\n",
      " |-- Dependents: string (nullable = true)\n",
      " |-- tenure: integer (nullable = true)\n",
      " |-- PhoneService: string (nullable = true)\n",
      " |-- MultipleLines: string (nullable = true)\n",
      " |-- InternetService: string (nullable = true)\n",
      " |-- OnlineSecurity: string (nullable = true)\n",
      " |-- OnlineBackup: string (nullable = true)\n",
      " |-- DeviceProtection: string (nullable = true)\n",
      " |-- TechSupport: string (nullable = true)\n",
      " |-- StreamingTV: string (nullable = true)\n",
      " |-- StreamingMovies: string (nullable = true)\n",
      " |-- Contract: string (nullable = true)\n",
      " |-- PaperlessBilling: string (nullable = true)\n",
      " |-- PaymentMethod: string (nullable = true)\n",
      " |-- MonthlyCharges: double (nullable = true)\n",
      " |-- TotalCharges: float (nullable = true)\n",
      " |-- Churn: string (nullable = true)\n",
      "\n"
     ]
    }
   ],
   "source": [
    "teleCus_df2.printSchema()"
   ]
  },
  {
   "cell_type": "code",
   "execution_count": 21,
   "id": "48c82e68",
   "metadata": {},
   "outputs": [],
   "source": [
    "numericCols = ['tenure','MonthlyCharges','TotalCharges']\n",
    "\n",
    "assemblerInputs = [c+\"classVec\" for c in categorical_cols]+numericCols\n",
    "\n",
    "assembler = VectorAssembler(inputCols=assemblerInputs,outputCol='features')\n",
    "\n",
    "stages1 += [assembler]"
   ]
  },
  {
   "cell_type": "code",
   "execution_count": 22,
   "id": "58212817",
   "metadata": {},
   "outputs": [
    {
     "name": "stdout",
     "output_type": "stream",
     "text": [
      "+-----+--------------------+\n",
      "|churn|            features|\n",
      "+-----+--------------------+\n",
      "|   No|(30,[1,3,8,9,12,1...|\n",
      "|   No|(30,[0,1,2,3,4,5,...|\n",
      "|  Yes|[1.0,1.0,1.0,1.0,...|\n",
      "+-----+--------------------+\n",
      "only showing top 3 rows\n",
      "\n"
     ]
    }
   ],
   "source": [
    "pipeline = Pipeline(stages=stages1)\n",
    "pipelinemodel = pipeline.fit(teleCus_df2)\n",
    "teleCus_df2 = pipelinemodel.transform(teleCus_df2)\n",
    "selectedcols = [\"churn\",\"features\"]\n",
    "teleCus_df2 = teleCus_df2.select(selectedcols)\n"
   ]
  },
  {
   "cell_type": "code",
   "execution_count": 56,
   "id": "abf5b7f4",
   "metadata": {},
   "outputs": [],
   "source": [
    "teleCus_df2 = teleCus_df2.withColumn(\"Churn\",regexp_replace('Churn','Yes',\"1\"))\n",
    "teleCus_df2 = teleCus_df2.withColumn(\"Churn\",regexp_replace('Churn','No',\"0\"))"
   ]
  },
  {
   "cell_type": "code",
   "execution_count": 62,
   "id": "a3b64637",
   "metadata": {},
   "outputs": [
    {
     "name": "stdout",
     "output_type": "stream",
     "text": [
      "+-----+--------------------+\n",
      "|Churn|            features|\n",
      "+-----+--------------------+\n",
      "|    0|(30,[1,3,8,9,12,1...|\n",
      "|    0|(30,[0,1,2,3,4,5,...|\n",
      "|    1|[1.0,1.0,1.0,1.0,...|\n",
      "|    0|(30,[0,1,2,3,8,10...|\n",
      "|    1|(30,[1,2,3,4,5,7,...|\n",
      "|    1|(30,[1,2,3,4,6,7,...|\n",
      "|    0|(30,[0,1,2,4,6,7,...|\n",
      "|    0|(30,[1,2,3,8,10,1...|\n",
      "|    1|(30,[1,3,4,6,7,9,...|\n",
      "|    0|(30,[0,1,2,4,5,8,...|\n",
      "|    0|(30,[0,1,4,5,8,10...|\n",
      "|    0|(30,[0,1,2,3,4,5,...|\n",
      "|    0|(30,[0,1,3,4,6,7,...|\n",
      "|    1|[1.0,1.0,1.0,1.0,...|\n",
      "|    0|[1.0,1.0,1.0,1.0,...|\n",
      "|    0|(30,[1,4,6,7,10,1...|\n",
      "|    0|(30,[1,2,3,4,5,25...|\n",
      "|    0|(30,[0,1,2,4,6,7,...|\n",
      "|    1|(30,[1,4,5,8,9,11...|\n",
      "|    0|(30,[1,2,3,4,5,7,...|\n",
      "+-----+--------------------+\n",
      "only showing top 20 rows\n",
      "\n"
     ]
    }
   ],
   "source": [
    "teleCus_df2.show()"
   ]
  },
  {
   "cell_type": "markdown",
   "id": "841a0606",
   "metadata": {},
   "source": [
    "### split and train"
   ]
  },
  {
   "cell_type": "code",
   "execution_count": 60,
   "id": "7b3ef2c7",
   "metadata": {},
   "outputs": [
    {
     "data": {
      "text/plain": [
       "DataFrame[churn: string, features: vector]"
      ]
     },
     "execution_count": 60,
     "metadata": {},
     "output_type": "execute_result"
    }
   ],
   "source": [
    "train.select(['churn','features'])"
   ]
  },
  {
   "cell_type": "code",
   "execution_count": 63,
   "id": "88d1e39c",
   "metadata": {},
   "outputs": [],
   "source": [
    "from pyspark.sql.types import IntegerType\n",
    "tele_cus3 = teleCus_df2.withColumn('churn',col('churn').cast(IntegerType()))"
   ]
  },
  {
   "cell_type": "code",
   "execution_count": 101,
   "id": "9bc654bd",
   "metadata": {},
   "outputs": [],
   "source": [
    "train,test = tele_cus3.randomSplit([0.8,0.2] ,seed=432)"
   ]
  },
  {
   "cell_type": "code",
   "execution_count": 102,
   "id": "cfa80040",
   "metadata": {},
   "outputs": [
    {
     "data": {
      "text/plain": [
       "DataFrame[churn: int, features: vector]"
      ]
     },
     "execution_count": 102,
     "metadata": {},
     "output_type": "execute_result"
    }
   ],
   "source": [
    "train.select(['churn','features'])"
   ]
  },
  {
   "cell_type": "code",
   "execution_count": 103,
   "id": "f881be16",
   "metadata": {},
   "outputs": [
    {
     "name": "stdout",
     "output_type": "stream",
     "text": [
      "+-----+--------------------+\n",
      "|churn|            features|\n",
      "+-----+--------------------+\n",
      "|    0|(30,[0,1,2,3,4,5,...|\n",
      "|    0|(30,[0,1,2,3,4,5,...|\n",
      "|    0|(30,[0,1,2,3,4,5,...|\n",
      "|    0|(30,[0,1,2,3,4,5,...|\n",
      "|    0|(30,[0,1,2,3,4,5,...|\n",
      "|    0|(30,[0,1,2,3,4,5,...|\n",
      "|    0|(30,[0,1,2,3,4,5,...|\n",
      "|    0|(30,[0,1,2,3,4,5,...|\n",
      "|    0|(30,[0,1,2,3,4,5,...|\n",
      "|    0|(30,[0,1,2,3,4,5,...|\n",
      "|    0|(30,[0,1,2,3,4,5,...|\n",
      "|    0|(30,[0,1,2,3,4,5,...|\n",
      "|    0|(30,[0,1,2,3,4,5,...|\n",
      "|    0|(30,[0,1,2,3,4,5,...|\n",
      "|    0|(30,[0,1,2,3,4,5,...|\n",
      "|    0|(30,[0,1,2,3,4,5,...|\n",
      "|    0|(30,[0,1,2,3,4,5,...|\n",
      "|    0|(30,[0,1,2,3,4,5,...|\n",
      "|    0|(30,[0,1,2,3,4,5,...|\n",
      "|    0|(30,[0,1,2,3,4,5,...|\n",
      "+-----+--------------------+\n",
      "only showing top 20 rows\n",
      "\n"
     ]
    }
   ],
   "source": [
    "train.show()"
   ]
  },
  {
   "cell_type": "code",
   "execution_count": 104,
   "id": "06678a6d",
   "metadata": {},
   "outputs": [],
   "source": [
    "from pyspark.ml.classification import DecisionTreeClassifier, LogisticRegression\n",
    "tree = DecisionTreeClassifier(featuresCol = 'features',labelCol='churn')\n",
    "model = tree.fit(train)"
   ]
  },
  {
   "cell_type": "code",
   "execution_count": 105,
   "id": "1f9eeab8",
   "metadata": {},
   "outputs": [],
   "source": [
    "#predictions on test data\n",
    "predict = model.transform(test)"
   ]
  },
  {
   "cell_type": "code",
   "execution_count": 83,
   "id": "33da971d",
   "metadata": {},
   "outputs": [
    {
     "name": "stdout",
     "output_type": "stream",
     "text": [
      "+----------------------------------------+----------+\n",
      "|probability                             |prediction|\n",
      "+----------------------------------------+----------+\n",
      "|[0.365814696485623,0.634185303514377]   |1.0       |\n",
      "|[0.365814696485623,0.634185303514377]   |1.0       |\n",
      "|[0.6186770428015564,0.38132295719844356]|0.0       |\n",
      "|[0.723404255319149,0.2765957446808511]  |0.0       |\n",
      "|[0.365814696485623,0.634185303514377]   |1.0       |\n",
      "|[0.365814696485623,0.634185303514377]   |1.0       |\n",
      "|[0.365814696485623,0.634185303514377]   |1.0       |\n",
      "|[0.7641509433962265,0.2358490566037736] |0.0       |\n",
      "|[0.4764705882352941,0.5235294117647059] |1.0       |\n",
      "|[0.6186770428015564,0.38132295719844356]|0.0       |\n",
      "|[0.6186770428015564,0.38132295719844356]|0.0       |\n",
      "|[0.7641509433962265,0.2358490566037736] |0.0       |\n",
      "|[0.6186770428015564,0.38132295719844356]|0.0       |\n",
      "|[0.9024390243902439,0.0975609756097561] |0.0       |\n",
      "|[0.8157560355781448,0.18424396442185514]|0.0       |\n",
      "|[0.5056603773584906,0.49433962264150944]|0.0       |\n",
      "|[0.8157560355781448,0.18424396442185514]|0.0       |\n",
      "|[0.8157560355781448,0.18424396442185514]|0.0       |\n",
      "|[0.5056603773584906,0.49433962264150944]|0.0       |\n",
      "|[0.8157560355781448,0.18424396442185514]|0.0       |\n",
      "+----------------------------------------+----------+\n",
      "only showing top 20 rows\n",
      "\n"
     ]
    }
   ],
   "source": [
    "predict.select(['probability','prediction']).show(truncate=False)"
   ]
  },
  {
   "cell_type": "code",
   "execution_count": 106,
   "id": "0388c17d",
   "metadata": {},
   "outputs": [],
   "source": [
    "from pyspark.ml.evaluation import MulticlassClassificationEvaluator\n",
    "evaluator = MulticlassClassificationEvaluator(labelCol='churn', predictionCol='prediction',\n",
    "                                 metricName='accuracy')\n",
    "accuracy1 = evaluator.evaluate(predict)"
   ]
  },
  {
   "cell_type": "code",
   "execution_count": 107,
   "id": "f0837df1",
   "metadata": {},
   "outputs": [
    {
     "data": {
      "text/plain": [
       "0.7718168812589413"
      ]
     },
     "execution_count": 107,
     "metadata": {},
     "output_type": "execute_result"
    }
   ],
   "source": [
    "accuracy1"
   ]
  },
  {
   "cell_type": "markdown",
   "id": "2a22dc05",
   "metadata": {},
   "source": [
    "Logistic regression"
   ]
  },
  {
   "cell_type": "code",
   "execution_count": 108,
   "id": "d13c0286",
   "metadata": {},
   "outputs": [],
   "source": [
    "logit = LogisticRegression(featuresCol='features',labelCol='churn')\n",
    "logit_model = logit.fit(train)"
   ]
  },
  {
   "cell_type": "code",
   "execution_count": 109,
   "id": "789e83de",
   "metadata": {},
   "outputs": [],
   "source": [
    "log_predictions = logit_model.transform(test)"
   ]
  },
  {
   "cell_type": "code",
   "execution_count": 110,
   "id": "e471a9c5",
   "metadata": {},
   "outputs": [],
   "source": [
    "evaluator = MulticlassClassificationEvaluator(labelCol='churn', predictionCol='prediction',\n",
    "                                 metricName='accuracy')\n",
    "accuracy2 = evaluator.evaluate(log_predictions)"
   ]
  },
  {
   "cell_type": "code",
   "execution_count": 111,
   "id": "9d94f860",
   "metadata": {},
   "outputs": [
    {
     "data": {
      "text/plain": [
       "0.7982832618025751"
      ]
     },
     "execution_count": 111,
     "metadata": {},
     "output_type": "execute_result"
    }
   ],
   "source": [
    "accuracy2"
   ]
  },
  {
   "cell_type": "markdown",
   "id": "a3736380",
   "metadata": {},
   "source": [
    "#### Random Forest"
   ]
  },
  {
   "cell_type": "code",
   "execution_count": 112,
   "id": "778df97e",
   "metadata": {},
   "outputs": [],
   "source": [
    "from pyspark.ml.classification import RandomForestClassifier"
   ]
  },
  {
   "cell_type": "code",
   "execution_count": 113,
   "id": "9afd7bd6",
   "metadata": {},
   "outputs": [],
   "source": [
    "rf = RandomForestClassifier(featuresCol='features',labelCol='churn')\n",
    "rf_model = logit.fit(train)"
   ]
  },
  {
   "cell_type": "code",
   "execution_count": 114,
   "id": "7b721f16",
   "metadata": {},
   "outputs": [],
   "source": [
    "rf_predictions = rf_model.transform(test)"
   ]
  },
  {
   "cell_type": "code",
   "execution_count": 115,
   "id": "92c52389",
   "metadata": {},
   "outputs": [],
   "source": [
    "evaluator = MulticlassClassificationEvaluator(labelCol='churn', predictionCol='prediction',\n",
    "                                 metricName='accuracy')\n",
    "accuracy3 = evaluator.evaluate(rf_predictions)"
   ]
  },
  {
   "cell_type": "code",
   "execution_count": 116,
   "id": "91ebad44",
   "metadata": {},
   "outputs": [
    {
     "data": {
      "text/plain": [
       "0.7982832618025751"
      ]
     },
     "execution_count": 116,
     "metadata": {},
     "output_type": "execute_result"
    }
   ],
   "source": [
    "accuracy3"
   ]
  },
  {
   "cell_type": "code",
   "execution_count": null,
   "id": "e987c5dd",
   "metadata": {},
   "outputs": [],
   "source": []
  }
 ],
 "metadata": {
  "kernelspec": {
   "display_name": "Python 3",
   "language": "python",
   "name": "python3"
  },
  "language_info": {
   "codemirror_mode": {
    "name": "ipython",
    "version": 3
   },
   "file_extension": ".py",
   "mimetype": "text/x-python",
   "name": "python",
   "nbconvert_exporter": "python",
   "pygments_lexer": "ipython3",
   "version": "3.6.9"
  }
 },
 "nbformat": 4,
 "nbformat_minor": 5
}
