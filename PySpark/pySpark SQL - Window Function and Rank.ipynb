{
 "cells": [
  {
   "cell_type": "code",
   "execution_count": 1,
   "id": "9eaa1cb8",
   "metadata": {},
   "outputs": [
    {
     "data": {
      "text/html": [
       "\n",
       "        <div>\n",
       "            <p><b>SparkContext</b></p>\n",
       "\n",
       "            <p><a href=\"http://10.0.2.15:4048\">Spark UI</a></p>\n",
       "\n",
       "            <dl>\n",
       "              <dt>Version</dt>\n",
       "                <dd><code>v2.4.8</code></dd>\n",
       "              <dt>Master</dt>\n",
       "                <dd><code>local[*]</code></dd>\n",
       "              <dt>AppName</dt>\n",
       "                <dd><code>PySparkShell</code></dd>\n",
       "            </dl>\n",
       "        </div>\n",
       "        "
      ],
      "text/plain": [
       "<SparkContext master=local[*] appName=PySparkShell>"
      ]
     },
     "execution_count": 1,
     "metadata": {},
     "output_type": "execute_result"
    }
   ],
   "source": [
    "sc"
   ]
  },
  {
   "cell_type": "code",
   "execution_count": 2,
   "id": "b6029a23",
   "metadata": {},
   "outputs": [
    {
     "data": {
      "text/html": [
       "\n",
       "            <div>\n",
       "                <p><b>SparkSession - hive</b></p>\n",
       "                \n",
       "        <div>\n",
       "            <p><b>SparkContext</b></p>\n",
       "\n",
       "            <p><a href=\"http://10.0.2.15:4048\">Spark UI</a></p>\n",
       "\n",
       "            <dl>\n",
       "              <dt>Version</dt>\n",
       "                <dd><code>v2.4.8</code></dd>\n",
       "              <dt>Master</dt>\n",
       "                <dd><code>local[*]</code></dd>\n",
       "              <dt>AppName</dt>\n",
       "                <dd><code>PySparkShell</code></dd>\n",
       "            </dl>\n",
       "        </div>\n",
       "        \n",
       "            </div>\n",
       "        "
      ],
      "text/plain": [
       "<pyspark.sql.session.SparkSession at 0x7fa55a7fc438>"
      ]
     },
     "execution_count": 2,
     "metadata": {},
     "output_type": "execute_result"
    }
   ],
   "source": [
    "spark"
   ]
  },
  {
   "cell_type": "code",
   "execution_count": 8,
   "id": "fa25e47f",
   "metadata": {},
   "outputs": [],
   "source": [
    "hr_df = spark.read.csv(\"file:///home/hadoop/Downloads/HR_Employee.csv\", inferSchema=True, header=True)"
   ]
  },
  {
   "cell_type": "code",
   "execution_count": 9,
   "id": "eaae2c0f",
   "metadata": {},
   "outputs": [],
   "source": [
    "hr_df.createOrReplaceTempView('hremployee')"
   ]
  },
  {
   "cell_type": "code",
   "execution_count": null,
   "id": "203402d8",
   "metadata": {},
   "outputs": [],
   "source": [
    "hr_df.explain()"
   ]
  },
  {
   "cell_type": "code",
   "execution_count": 14,
   "id": "ffd4c457",
   "metadata": {},
   "outputs": [
    {
     "name": "stdout",
     "output_type": "stream",
     "text": [
      "+-----------+--------------------+\n",
      "|max(income)|          department|\n",
      "+-----------+--------------------+\n",
      "|      19847|               Sales|\n",
      "|      19999|Research & Develo...|\n",
      "|      19717|     Human Resources|\n",
      "+-----------+--------------------+\n",
      "\n"
     ]
    }
   ],
   "source": [
    "#### 2. Write quer to display maximum salary from each department using hremployee\n",
    "spark.sql(\"select max(income), department from hremployee group by department\").show()"
   ]
  },
  {
   "cell_type": "code",
   "execution_count": null,
   "id": "a9b3ecbb",
   "metadata": {},
   "outputs": [],
   "source": [
    "#### 3 write the query to show employee details with department having highest salary from each department"
   ]
  },
  {
   "cell_type": "code",
   "execution_count": 15,
   "id": "4200936f",
   "metadata": {},
   "outputs": [
    {
     "name": "stdout",
     "output_type": "stream",
     "text": [
      "+-----------+--------------------+\n",
      "|max(income)|          department|\n",
      "+-----------+--------------------+\n",
      "|      19847|               Sales|\n",
      "|      19999|Research & Develo...|\n",
      "|      19717|     Human Resources|\n",
      "+-----------+--------------------+\n",
      "\n"
     ]
    }
   ],
   "source": [
    "spark.sql(\"select * from (select max(income), department from hremployee group by department)\").show()"
   ]
  },
  {
   "cell_type": "code",
   "execution_count": null,
   "id": "170919fb",
   "metadata": {},
   "outputs": [],
   "source": []
  }
 ],
 "metadata": {
  "kernelspec": {
   "display_name": "Python 3",
   "language": "python",
   "name": "python3"
  },
  "language_info": {
   "codemirror_mode": {
    "name": "ipython",
    "version": 3
   },
   "file_extension": ".py",
   "mimetype": "text/x-python",
   "name": "python",
   "nbconvert_exporter": "python",
   "pygments_lexer": "ipython3",
   "version": "3.6.9"
  }
 },
 "nbformat": 4,
 "nbformat_minor": 5
}
